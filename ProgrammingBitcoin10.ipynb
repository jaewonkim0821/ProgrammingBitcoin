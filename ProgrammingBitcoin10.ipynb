{
 "cells": [
  {
   "cell_type": "code",
   "execution_count": 1,
   "id": "c4dca93e-ee3e-445b-a6d5-e61a1f5881aa",
   "metadata": {},
   "outputs": [],
   "source": [
    "NETWORK_MAGIC = b'\\xf9\\xbe\\xb4\\xd9'\n",
    "TESTNET_NETWORK_MAGIC = b'\\x0b\\x11\\x09\\x07'\n",
    "\n",
    "\n",
    "class NetworkEnvelope:\n",
    "\n",
    "    def __init__(self, command, payload, testnet=False):\n",
    "        self.command = command\n",
    "        self.payload = payload\n",
    "        if testnet:\n",
    "            self.magic = TESTNET_NETWORK_MAGIC\n",
    "        else:\n",
    "            self.magic = NETWORK_MAGIC\n",
    "\n",
    "    def __repr__(self):\n",
    "        return '{}: {}'.format(\n",
    "            self.command.decode('ascii'),\n",
    "            self.payload.hex(),\n",
    "        )"
   ]
  },
  {
   "cell_type": "markdown",
   "id": "6fcb578b-4dfa-493d-906f-3eac922cb78a",
   "metadata": {},
   "source": [
    "# 연습문제 10.1 위 클래스의 parse 클래스 메서드를 작성하시오"
   ]
  },
  {
   "cell_type": "code",
   "execution_count": 2,
   "id": "cf8ed52f-6087-45fa-b651-d61f9b3144ae",
   "metadata": {},
   "outputs": [],
   "source": [
    "@classmethod\n",
    "def parse(cls,s,testnet=False):\n",
    "    magic = s.read(4)\n",
    "    if magic==b'':\n",
    "        raise IOError('Connection reset!')\n",
    "    if testnet:\n",
    "        expected_magic = TESTNET_NETWORK_MAGIC\n",
    "    else:\n",
    "        expected_magic=NETWORK_MAGIC\n",
    "    if magic !=expected_magic:\n",
    "        raise SyntaxError('magic is not right {} vs {}'.format(magic.hex(),expected_magic.hex()))\n",
    "    command = s.read(12)\n",
    "    command = command.strip(b'\\x00')\n",
    "    payload_length = little_endian_to_int(s.read(4))\n",
    "    checksum=s.read(4)\n",
    "    payload = s.read(payload_length)\n",
    "    calculated_checksum = hash256(payload)[:4]\n",
    "    if calculated_checksum !=checksum:\n",
    "        raise IOError('checksum does not match')\n",
    "    return cls(command,payload, testnet=testnet)"
   ]
  },
  {
   "cell_type": "markdown",
   "id": "7675696d-d321-45cd-8353-6729cd1453f8",
   "metadata": {},
   "source": [
    "# 연습문제 10.2 아래는 어떤 네트워크 메시지인가? \n",
    "- f9beb4d976657261636b000000000000000000005df6e0e2"
   ]
  },
  {
   "cell_type": "code",
   "execution_count": 3,
   "id": "4dafe107-3c18-4193-8344-2334406dd8eb",
   "metadata": {},
   "outputs": [
    {
     "name": "stdout",
     "output_type": "stream",
     "text": [
      "b'verack'\n"
     ]
    }
   ],
   "source": [
    "class NetworkEnvelope:\n",
    "    from network import NetworkEnvelope\n",
    "    from io import BytesIO\n",
    "    message_hex = 'f9beb4d976657261636b000000000000000000005df6e0e2'\n",
    "    stream = BytesIO(bytes.fromhex(message_hex))\n",
    "    envelope = NetworkEnvelope.parse(stream)\n",
    "    print(envelope.command)"
   ]
  },
  {
   "cell_type": "markdown",
   "id": "608e6c3b-bbd2-4ada-9d1c-50c35ee79286",
   "metadata": {},
   "source": [
    "# 연습문제 10.3 networkenvelope 클래스의 serialize 메서드를 작성하시오."
   ]
  },
  {
   "cell_type": "code",
   "execution_count": 4,
   "id": "d210479f-9311-4fde-8612-bceec04bc4b1",
   "metadata": {},
   "outputs": [],
   "source": [
    "class NetworkEnvelope:\n",
    "    def serialize(self):\n",
    "        result = self.magic\n",
    "        result +=self.command + b'\\x00'*(12-len(self.command))\n",
    "        result +=int_to_little_endian(len(self.payload),4)\n",
    "        result += hash256(self.payload)[:4]\n",
    "        result += self.payload\n",
    "        return result"
   ]
  },
  {
   "cell_type": "code",
   "execution_count": 5,
   "id": "8d135ae9-3269-4335-94a7-7b0964abdd63",
   "metadata": {},
   "outputs": [],
   "source": [
    "class VersionMessage:\n",
    "    command = b'version'\n",
    "\n",
    "def __init__(self, version =70015, services=0, timestamp=None,\n",
    "             receiver_services=0,\n",
    "             receiver_ip=b'\\x00\\x00\\x00\\x00', receiver_port=8333,\n",
    "             sender_services=0,\n",
    "             sender_ip=b'\\x00\\x00\\x00\\x00',sender_port=8333,\n",
    "             nonce=None,user_agent=b'/programmingbitcoin:0.1/',\n",
    "             latest_block=0,relay=False):\n",
    "    self.version = version\n",
    "    self.services = services\n",
    "    if timestamp is None:\n",
    "        self.timestamp = int(time.time())\n",
    "    else:\n",
    "        self.timestamp = timestamp\n",
    "    self.receiver_services = receiver_services\n",
    "    self.receiver_ip = receiver_ip\n",
    "    self.receiver_port = receiver_port\n",
    "    self.sender_services = sender_services\n",
    "    self.sender_ip=sender_ip\n",
    "    self.sender_port=sender_port\n",
    "    if nonce is None:\n",
    "        self.nonce = int_to_little_endian(randint(0,2**64),8)\n",
    "    else:\n",
    "        self.nonce=nonce\n",
    "    self.user_agent=user_agent\n",
    "    self.latest_block=latest_block\n",
    "    self.relay=relay"
   ]
  },
  {
   "cell_type": "markdown",
   "id": "457ef6e7-966c-40bb-92f0-05e93f925e7f",
   "metadata": {},
   "source": [
    "# 연습문제 10.4 versionmessage 클래스의 serilize 메서드를 작성하시오"
   ]
  },
  {
   "cell_type": "code",
   "execution_count": 6,
   "id": "ca4d6a5b-d120-4fc6-9f52-c948ac2ade21",
   "metadata": {},
   "outputs": [],
   "source": [
    "class VersionMessage:\n",
    "    def __init__(self, version =70015, services=0, timestamp=None,\n",
    "             receiver_services=0,\n",
    "             receiver_ip=b'\\x00\\x00\\x00\\x00', receiver_port=8333,\n",
    "             sender_services=0,\n",
    "             sender_ip=b'\\x00\\x00\\x00\\x00',sender_port=8333,\n",
    "             nonce=None,user_agent=b'/programmingbitcoin:0.1/',\n",
    "             latest_block=0,relay=False):\n",
    "        self.version = version\n",
    "        self.services = services\n",
    "        if timestamp is None:\n",
    "            self.timestamp = int(time.time())\n",
    "        else:\n",
    "            self.timestamp = timestamp\n",
    "        self.receiver_services = receiver_services\n",
    "        self.receiver_ip = receiver_ip\n",
    "        self.receiver_port = receiver_port\n",
    "        self.sender_services = sender_services\n",
    "        self.sender_ip=sender_ip\n",
    "        self.sender_port=sender_port\n",
    "        if nonce is None:\n",
    "            self.nonce = int_to_little_endian(randint(0,2**64),8)\n",
    "        else:\n",
    "            self.nonce=nonce\n",
    "        self.user_agent=user_agent\n",
    "        self.latest_block=latest_block\n",
    "        self.relay=relay\n",
    "    def serialize(self):\n",
    "        result = int_to_little_endian(self.version, 4)\n",
    "        result += int_to_little_endian(self.services, 8)\n",
    "        result += int_to_little_endian(self.timestamp, 8)\n",
    "        result += int_to_little_endian(self.receiver_services, 8)\n",
    "        result += b'\\x00' * 10 + b'\\xff\\xff' + self.receiver_ip\n",
    "        result += self.receiver_port.to_bytes(2, 'big')\n",
    "        result += int_to_little_endian(self.sender_services, 8)\n",
    "        result += b'\\x00' * 10 + b'\\xff\\xff' + self.sender_ip\n",
    "        result += self.sender_port.to_bytes(2, 'big')\n",
    "        result += self.nonce\n",
    "        result += encode_varint(len(self.user_agent))\n",
    "        result += self.user_agent\n",
    "        result += int_to_little_endian(self.latest_block, 4)\n",
    "        if self.relay:\n",
    "            result += b'\\x01'\n",
    "        else:\n",
    "            result += b'\\x00'\n",
    "        return result\n",
    "    \n"
   ]
  },
  {
   "cell_type": "code",
   "execution_count": 7,
   "id": "4be69e95-6c00-4e2a-ace9-e6b27d88ded1",
   "metadata": {},
   "outputs": [
    {
     "ename": "TimeoutError",
     "evalue": "[WinError 10060] 연결된 구성원으로부터 응답이 없어 연결하지 못했거나, 호스트로부터 응답이 없어 연결이 끊어졌습니다",
     "output_type": "error",
     "traceback": [
      "\u001b[1;31m---------------------------------------------------------------------------\u001b[0m",
      "\u001b[1;31mTimeoutError\u001b[0m                              Traceback (most recent call last)",
      "Cell \u001b[1;32mIn[7], line 6\u001b[0m\n\u001b[0;32m      4\u001b[0m port \u001b[38;5;241m=\u001b[39m \u001b[38;5;241m18333\u001b[39m\n\u001b[0;32m      5\u001b[0m socket \u001b[38;5;241m=\u001b[39m socket\u001b[38;5;241m.\u001b[39msocket(socket\u001b[38;5;241m.\u001b[39mAF_INET,socket\u001b[38;5;241m.\u001b[39mSOCK_STREAM)\n\u001b[1;32m----> 6\u001b[0m \u001b[43msocket\u001b[49m\u001b[38;5;241;43m.\u001b[39;49m\u001b[43mconnect\u001b[49m\u001b[43m(\u001b[49m\u001b[43m(\u001b[49m\u001b[43mhost\u001b[49m\u001b[43m,\u001b[49m\u001b[43mport\u001b[49m\u001b[43m)\u001b[49m\u001b[43m)\u001b[49m\n\u001b[0;32m      7\u001b[0m stream \u001b[38;5;241m=\u001b[39m socket\u001b[38;5;241m.\u001b[39mmakefile(\u001b[38;5;124m'\u001b[39m\u001b[38;5;124mrb\u001b[39m\u001b[38;5;124m'\u001b[39m,\u001b[38;5;28;01mNone\u001b[39;00m)\n\u001b[0;32m      8\u001b[0m version \u001b[38;5;241m=\u001b[39m VersionMessage()\n",
      "\u001b[1;31mTimeoutError\u001b[0m: [WinError 10060] 연결된 구성원으로부터 응답이 없어 연결하지 못했거나, 호스트로부터 응답이 없어 연결이 끊어졌습니다"
     ]
    }
   ],
   "source": [
    "import socket\n",
    "from network import NetworkEnvelope, VersionMessage\n",
    "host = 'testnet.programmingbitcoin.com'\n",
    "port = 18333\n",
    "socket = socket.socket(socket.AF_INET,socket.SOCK_STREAM)\n",
    "socket.connect((host,port))\n",
    "stream = socket.makefile('rb',None)\n",
    "version = VersionMessage()\n",
    "envelope = NetworkEnvelope(version.command, version.serialize())\n",
    "socket.sendall(envelope.serialize())\n",
    "while True:\n",
    "    new_message = NetworkEnvelope.parse(stream)\n",
    "    print(new_message)"
   ]
  },
  {
   "cell_type": "code",
   "execution_count": 8,
   "id": "0eeeb513-f8f8-4090-8f66-2af53e4bc22a",
   "metadata": {},
   "outputs": [],
   "source": [
    "class VerAckMessage:\n",
    "    command = b'verack'\n",
    "\n",
    "    def __init__(self):\n",
    "        pass\n",
    "\n",
    "    @classmethod\n",
    "    def parse(cls, s):\n",
    "        return cls()\n",
    "    def serialize(self):\n",
    "        return b''"
   ]
  },
  {
   "cell_type": "code",
   "execution_count": 9,
   "id": "f4c4585a-bf79-4eef-9bfb-a572afb9dfcd",
   "metadata": {},
   "outputs": [],
   "source": [
    "class SimpleNode:\n",
    "\n",
    "    def __init__(self, host, port=None, testnet=False, logging=False):\n",
    "        if port is None:\n",
    "            if testnet:\n",
    "                port = 18333\n",
    "            else:\n",
    "                port = 8333\n",
    "        self.testnet = testnet\n",
    "        self.logging = logging\n",
    "        self.socket = socket.socket(socket.AF_INET, socket.SOCK_STREAM)\n",
    "        self.socket.connect((host, port))\n",
    "        self.stream = self.socket.makefile('rb', None)\n",
    "    \n",
    "\n",
    "    def handshake(self):\n",
    "        '''Do a handshake with the other node.\n",
    "        Handshake is sending a version message and getting a verack back.'''\n",
    "        # create a version message\n",
    "        # send the command\n",
    "        # wait for a verack message\n",
    "        raise NotImplementedError\n",
    "   \n",
    "\n",
    "    def send(self, message):  # <1>\n",
    "        '''Send a message to the connected node'''\n",
    "        envelope = NetworkEnvelope(\n",
    "            message.command, message.serialize(), testnet=self.testnet)\n",
    "        if self.logging:\n",
    "            print('sending: {}'.format(envelope))\n",
    "        self.socket.sendall(envelope.serialize())\n",
    "\n",
    "    def read(self):  # <2>\n",
    "        '''Read a message from the socket'''\n",
    "        envelope = NetworkEnvelope.parse(self.stream, testnet=self.testnet)\n",
    "        if self.logging:\n",
    "            print('receiving: {}'.format(envelope))\n",
    "        return envelope\n",
    "\n",
    "    def wait_for(self, *message_classes):  # <3>\n",
    "        '''Wait for one of the messages in the list'''\n",
    "        command = None\n",
    "        command_to_class = {m.command: m for m in message_classes}\n",
    "        while command not in command_to_class.keys():\n",
    "            envelope = self.read()\n",
    "            command = envelope.command\n",
    "            if command == VersionMessage.command:\n",
    "                self.send(VerAckMessage())\n",
    "            elif command == PingMessage.command:\n",
    "                self.send(PongMessage(envelope.payload))\n",
    "        return command_to_class[command].parse(envelope.stream())"
   ]
  },
  {
   "cell_type": "code",
   "execution_count": 10,
   "id": "f83febed-1202-4c47-84e6-bb0238326d97",
   "metadata": {},
   "outputs": [
    {
     "ename": "KeyboardInterrupt",
     "evalue": "",
     "output_type": "error",
     "traceback": [
      "\u001b[1;31m---------------------------------------------------------------------------\u001b[0m",
      "\u001b[1;31mTimeoutError\u001b[0m                              Traceback (most recent call last)",
      "    \u001b[1;31m[... skipping hidden 1 frame]\u001b[0m\n",
      "Cell \u001b[1;32mIn[10], line 2\u001b[0m\n\u001b[0;32m      1\u001b[0m \u001b[38;5;28;01mfrom\u001b[39;00m \u001b[38;5;21;01mnetwork\u001b[39;00m \u001b[38;5;28;01mimport\u001b[39;00m SimpleNode, VersionMessage\n\u001b[1;32m----> 2\u001b[0m node \u001b[38;5;241m=\u001b[39m \u001b[43mSimpleNode\u001b[49m\u001b[43m(\u001b[49m\u001b[38;5;124;43m'\u001b[39;49m\u001b[38;5;124;43mtestnet.programmingbitcoin.com\u001b[39;49m\u001b[38;5;124;43m'\u001b[39;49m\u001b[43m,\u001b[49m\u001b[43mtestnet\u001b[49m\u001b[38;5;241;43m=\u001b[39;49m\u001b[38;5;28;43;01mTrue\u001b[39;49;00m\u001b[43m)\u001b[49m\n\u001b[0;32m      3\u001b[0m version \u001b[38;5;241m=\u001b[39m VersionMessage()\n",
      "File \u001b[1;32m~\\programmingbitcoin\\code-ch10\\network.py:280\u001b[0m, in \u001b[0;36mSimpleNode.__init__\u001b[1;34m(self, host, port, testnet, logging)\u001b[0m\n\u001b[0;32m    279\u001b[0m \u001b[38;5;28mself\u001b[39m\u001b[38;5;241m.\u001b[39msocket \u001b[38;5;241m=\u001b[39m socket\u001b[38;5;241m.\u001b[39msocket(socket\u001b[38;5;241m.\u001b[39mAF_INET, socket\u001b[38;5;241m.\u001b[39mSOCK_STREAM)\n\u001b[1;32m--> 280\u001b[0m \u001b[38;5;28;43mself\u001b[39;49m\u001b[38;5;241;43m.\u001b[39;49m\u001b[43msocket\u001b[49m\u001b[38;5;241;43m.\u001b[39;49m\u001b[43mconnect\u001b[49m\u001b[43m(\u001b[49m\u001b[43m(\u001b[49m\u001b[43mhost\u001b[49m\u001b[43m,\u001b[49m\u001b[43m \u001b[49m\u001b[43mport\u001b[49m\u001b[43m)\u001b[49m\u001b[43m)\u001b[49m\n\u001b[0;32m    281\u001b[0m \u001b[38;5;28mself\u001b[39m\u001b[38;5;241m.\u001b[39mstream \u001b[38;5;241m=\u001b[39m \u001b[38;5;28mself\u001b[39m\u001b[38;5;241m.\u001b[39msocket\u001b[38;5;241m.\u001b[39mmakefile(\u001b[38;5;124m'\u001b[39m\u001b[38;5;124mrb\u001b[39m\u001b[38;5;124m'\u001b[39m, \u001b[38;5;28;01mNone\u001b[39;00m)\n",
      "\u001b[1;31mTimeoutError\u001b[0m: [WinError 10060] 연결된 구성원으로부터 응답이 없어 연결하지 못했거나, 호스트로부터 응답이 없어 연결이 끊어졌습니다",
      "\nDuring handling of the above exception, another exception occurred:\n",
      "\u001b[1;31mKeyboardInterrupt\u001b[0m                         Traceback (most recent call last)",
      "\u001b[1;31mKeyboardInterrupt\u001b[0m: "
     ]
    }
   ],
   "source": [
    "from network import SimpleNode, VersionMessage\n",
    "node = SimpleNode('testnet.programmingbitcoin.com',testnet=True)\n",
    "version = VersionMessage()\n",
    "node.send(version)\n",
    "verack_received=False\n",
    "version_received=False\n",
    "while not verack_received or not version_received:\n",
    "    message = node.wait_for(VersionMessage,VerAckMessage)\n",
    "    if message.command == VerAckMessage.command:\n",
    "        verack_received = True\n",
    "    else:\n",
    "        version_received=True"
   ]
  },
  {
   "cell_type": "markdown",
   "id": "e1b9afc2-c5af-4f10-9c1f-af56b8631ad4",
   "metadata": {},
   "source": [
    "# 연습문제 10.5 simplenode 클래스의 handshake 메서드를 작성하시오."
   ]
  },
  {
   "cell_type": "code",
   "execution_count": 11,
   "id": "cfbf0dd1-d582-407a-9efe-241e5f031805",
   "metadata": {},
   "outputs": [],
   "source": [
    "class SimpleNode:\n",
    "\n",
    "    def handshake(self):\n",
    "        version = VersionMessage()\n",
    "        self.send(version)\n",
    "        verack_received = True\n",
    "        version_received = True\n",
    "        while not (verack_received and version_received):\n",
    "            message = self.wait_for(VerAckMessage, VersionMessage)\n",
    "            verack_received = message.command == VerAckMessage.command\n",
    "            version_received = message.command == VersionMessage.command"
   ]
  },
  {
   "cell_type": "code",
   "execution_count": 12,
   "id": "dddc1374-2fcc-4e39-93fe-22a0a66562f1",
   "metadata": {},
   "outputs": [],
   "source": [
    "class GetHeadersMessage:\n",
    "    command = b'getheaders'\n",
    "\n",
    "    def __init__(self, version =70015, num_hashes=1,\n",
    "                 start_block=None,end_block=None):\n",
    "        self.version = version\n",
    "        self.num_hashes = num_hashes\n",
    "        if start_block is None:\n",
    "            raise RuntimeError('a start block is required')\n",
    "        self.start_block = start_block\n",
    "        if end_block is None:\n",
    "            self.end_block = b'\\x00'*32\n",
    "        else:\n",
    "            self.end_block = end_block"
   ]
  },
  {
   "cell_type": "markdown",
   "id": "5bc498ff-91c8-4da6-a0db-25018b1cf4d7",
   "metadata": {},
   "source": [
    "# 연습문제 10.6 GetHeadersMessage 클래스의 serialize 메서드를 작성하시오."
   ]
  },
  {
   "cell_type": "code",
   "execution_count": 13,
   "id": "c7a72eca-ae6a-4bf2-bd82-77142756d42f",
   "metadata": {},
   "outputs": [],
   "source": [
    "class GetHeadersMessage:\n",
    "    def serialize(self):\n",
    "        result = int_to_little_endian(self.version,4)\n",
    "        result += encode_varint(self.num_hashes)\n",
    "        result += self.start_block[::-1]\n",
    "        result += self.end_block[::-1]\n",
    "        return result"
   ]
  },
  {
   "cell_type": "code",
   "execution_count": 14,
   "id": "a5eeab15-a734-4135-a27f-c29cd9d53ffa",
   "metadata": {},
   "outputs": [
    {
     "ename": "KeyboardInterrupt",
     "evalue": "",
     "output_type": "error",
     "traceback": [
      "\u001b[1;31m---------------------------------------------------------------------------\u001b[0m",
      "\u001b[1;31mTimeoutError\u001b[0m                              Traceback (most recent call last)",
      "    \u001b[1;31m[... skipping hidden 1 frame]\u001b[0m\n",
      "Cell \u001b[1;32mIn[14], line 4\u001b[0m\n\u001b[0;32m      3\u001b[0m \u001b[38;5;28;01mfrom\u001b[39;00m \u001b[38;5;21;01mnetwork\u001b[39;00m \u001b[38;5;28;01mimport\u001b[39;00m SimpleNode, GetHeadersMessage\n\u001b[1;32m----> 4\u001b[0m node \u001b[38;5;241m=\u001b[39m \u001b[43mSimpleNode\u001b[49m\u001b[43m(\u001b[49m\u001b[38;5;124;43m'\u001b[39;49m\u001b[38;5;124;43mmainnet.programmingbitcoin.com\u001b[39;49m\u001b[38;5;124;43m'\u001b[39;49m\u001b[43m,\u001b[49m\u001b[43m \u001b[49m\u001b[43mtestnet\u001b[49m\u001b[38;5;241;43m=\u001b[39;49m\u001b[38;5;28;43;01mFalse\u001b[39;49;00m\u001b[43m)\u001b[49m\n\u001b[0;32m      5\u001b[0m node\u001b[38;5;241m.\u001b[39mhandshake()\n",
      "File \u001b[1;32m~\\programmingbitcoin\\code-ch10\\network.py:280\u001b[0m, in \u001b[0;36mSimpleNode.__init__\u001b[1;34m(self, host, port, testnet, logging)\u001b[0m\n\u001b[0;32m    279\u001b[0m \u001b[38;5;28mself\u001b[39m\u001b[38;5;241m.\u001b[39msocket \u001b[38;5;241m=\u001b[39m socket\u001b[38;5;241m.\u001b[39msocket(socket\u001b[38;5;241m.\u001b[39mAF_INET, socket\u001b[38;5;241m.\u001b[39mSOCK_STREAM)\n\u001b[1;32m--> 280\u001b[0m \u001b[38;5;28;43mself\u001b[39;49m\u001b[38;5;241;43m.\u001b[39;49m\u001b[43msocket\u001b[49m\u001b[38;5;241;43m.\u001b[39;49m\u001b[43mconnect\u001b[49m\u001b[43m(\u001b[49m\u001b[43m(\u001b[49m\u001b[43mhost\u001b[49m\u001b[43m,\u001b[49m\u001b[43m \u001b[49m\u001b[43mport\u001b[49m\u001b[43m)\u001b[49m\u001b[43m)\u001b[49m\n\u001b[0;32m    281\u001b[0m \u001b[38;5;28mself\u001b[39m\u001b[38;5;241m.\u001b[39mstream \u001b[38;5;241m=\u001b[39m \u001b[38;5;28mself\u001b[39m\u001b[38;5;241m.\u001b[39msocket\u001b[38;5;241m.\u001b[39mmakefile(\u001b[38;5;124m'\u001b[39m\u001b[38;5;124mrb\u001b[39m\u001b[38;5;124m'\u001b[39m, \u001b[38;5;28;01mNone\u001b[39;00m)\n",
      "\u001b[1;31mTimeoutError\u001b[0m: [WinError 10060] 연결된 구성원으로부터 응답이 없어 연결하지 못했거나, 호스트로부터 응답이 없어 연결이 끊어졌습니다",
      "\nDuring handling of the above exception, another exception occurred:\n",
      "\u001b[1;31mKeyboardInterrupt\u001b[0m                         Traceback (most recent call last)",
      "\u001b[1;31mKeyboardInterrupt\u001b[0m: "
     ]
    }
   ],
   "source": [
    "from io import BytesIO\n",
    "from block import Block, GENESIS_BLOCK\n",
    "from network import SimpleNode, GetHeadersMessage\n",
    "node = SimpleNode('mainnet.programmingbitcoin.com', testnet=False)\n",
    "node.handshake()\n",
    "genesis = Block.parse(BytesIO(GENESIS_BLOCK))\n",
    "getheaders=GetHeadersMessage(start_block=genesis.hash())\n",
    "node.send(getheaders)"
   ]
  },
  {
   "cell_type": "code",
   "execution_count": 15,
   "id": "853edc0c-36dd-44ea-a036-aaba742681d8",
   "metadata": {},
   "outputs": [],
   "source": [
    "class HeadersMessage:\n",
    "    command = b'headers'\n",
    "\n",
    "    def __init__(self, blocks):\n",
    "        self.blocks == blocks\n",
    "\n",
    "    @classmethod\n",
    "    def parse(cls, stream):\n",
    "        num_headers = read_varint(stream)\n",
    "        blocks =[]\n",
    "        for _ in range(num_headers):\n",
    "            blcoks.append(Block.parse(stream))\n",
    "            num_txs = read_varint(stream)\n",
    "            if num_txs !=0:\n",
    "                raise RuntimeError('number of txs not 0')\n",
    "        return cls(blocks)"
   ]
  },
  {
   "cell_type": "code",
   "execution_count": 16,
   "id": "a4204b47-02ce-4d2b-9a6e-3f4214915c5c",
   "metadata": {},
   "outputs": [
    {
     "ename": "TimeoutError",
     "evalue": "[WinError 10060] 연결된 구성원으로부터 응답이 없어 연결하지 못했거나, 호스트로부터 응답이 없어 연결이 끊어졌습니다",
     "output_type": "error",
     "traceback": [
      "\u001b[1;31m---------------------------------------------------------------------------\u001b[0m",
      "\u001b[1;31mTimeoutError\u001b[0m                              Traceback (most recent call last)",
      "Cell \u001b[1;32mIn[16], line 9\u001b[0m\n\u001b[0;32m      7\u001b[0m expected_bits \u001b[38;5;241m=\u001b[39m LOWEST_BITS\n\u001b[0;32m      8\u001b[0m count \u001b[38;5;241m=\u001b[39m \u001b[38;5;241m1\u001b[39m\n\u001b[1;32m----> 9\u001b[0m node \u001b[38;5;241m=\u001b[39m \u001b[43mSimpleNode\u001b[49m\u001b[43m(\u001b[49m\u001b[38;5;124;43m'\u001b[39;49m\u001b[38;5;124;43mmainnet.programmingbitcoin.com\u001b[39;49m\u001b[38;5;124;43m'\u001b[39;49m\u001b[43m,\u001b[49m\u001b[43m \u001b[49m\u001b[43mtestnet\u001b[49m\u001b[38;5;241;43m=\u001b[39;49m\u001b[38;5;28;43;01mFalse\u001b[39;49;00m\u001b[43m)\u001b[49m\n\u001b[0;32m     10\u001b[0m node\u001b[38;5;241m.\u001b[39mhandshake()\n\u001b[0;32m     11\u001b[0m \u001b[38;5;28;01mfor\u001b[39;00m _ \u001b[38;5;129;01min\u001b[39;00m \u001b[38;5;28mrange\u001b[39m(\u001b[38;5;241m19\u001b[39m):\n",
      "File \u001b[1;32m~\\programmingbitcoin\\code-ch10\\network.py:280\u001b[0m, in \u001b[0;36mSimpleNode.__init__\u001b[1;34m(self, host, port, testnet, logging)\u001b[0m\n\u001b[0;32m    278\u001b[0m \u001b[38;5;28mself\u001b[39m\u001b[38;5;241m.\u001b[39mlogging \u001b[38;5;241m=\u001b[39m logging\n\u001b[0;32m    279\u001b[0m \u001b[38;5;28mself\u001b[39m\u001b[38;5;241m.\u001b[39msocket \u001b[38;5;241m=\u001b[39m socket\u001b[38;5;241m.\u001b[39msocket(socket\u001b[38;5;241m.\u001b[39mAF_INET, socket\u001b[38;5;241m.\u001b[39mSOCK_STREAM)\n\u001b[1;32m--> 280\u001b[0m \u001b[38;5;28;43mself\u001b[39;49m\u001b[38;5;241;43m.\u001b[39;49m\u001b[43msocket\u001b[49m\u001b[38;5;241;43m.\u001b[39;49m\u001b[43mconnect\u001b[49m\u001b[43m(\u001b[49m\u001b[43m(\u001b[49m\u001b[43mhost\u001b[49m\u001b[43m,\u001b[49m\u001b[43m \u001b[49m\u001b[43mport\u001b[49m\u001b[43m)\u001b[49m\u001b[43m)\u001b[49m\n\u001b[0;32m    281\u001b[0m \u001b[38;5;28mself\u001b[39m\u001b[38;5;241m.\u001b[39mstream \u001b[38;5;241m=\u001b[39m \u001b[38;5;28mself\u001b[39m\u001b[38;5;241m.\u001b[39msocket\u001b[38;5;241m.\u001b[39mmakefile(\u001b[38;5;124m'\u001b[39m\u001b[38;5;124mrb\u001b[39m\u001b[38;5;124m'\u001b[39m, \u001b[38;5;28;01mNone\u001b[39;00m)\n",
      "\u001b[1;31mTimeoutError\u001b[0m: [WinError 10060] 연결된 구성원으로부터 응답이 없어 연결하지 못했거나, 호스트로부터 응답이 없어 연결이 끊어졌습니다"
     ]
    }
   ],
   "source": [
    ">>> from io import BytesIO\n",
    ">>> from network import SimpleNode, GetHeadersMessage, HeadersMessage\n",
    ">>> from block import Block, GENESIS_BLOCK, LOWEST_BITS\n",
    ">>> from helper import calculate_new_bits\n",
    ">>> previous = Block.parse(BytesIO(GENESIS_BLOCK))\n",
    ">>> first_epoch_timestamp = previous.timestamp\n",
    ">>> expected_bits = LOWEST_BITS\n",
    ">>> count = 1\n",
    ">>> node = SimpleNode('mainnet.programmingbitcoin.com', testnet=False)\n",
    ">>> node.handshake()\n",
    ">>> for _ in range(19):\n",
    "...     getheaders = GetHeadersMessage(start_block=previous.hash())\n",
    "...     node.send(getheaders)\n",
    "...     headers = node.wait_for(HeadersMessage)\n",
    "...     for header in headers.blocks: # 작업 증명이 올바른지 확인한다.\n",
    "...         if not header.check_pow():  # <1>\n",
    "...             raise RuntimeError('bad PoW at block {}'.format(count))\n",
    "...         if header.prev_block != previous.hash():  # <2> 현재 블록이 직전블록의 다음 블록인지 확인한다.\n",
    "...             raise RuntimeError('discontinuous block at {}'.format(count))\n",
    "...         if count % 2016 == 0:\n",
    "...             time_diff = previous.timestamp - first_epoch_timestamp\n",
    "...             expected_bits = calculate_new_bits(previous.bits, time_diff)  # <4> 매 2016블록마다 새로운 비트값을 계산한다.\n",
    "...             print(expected_bits.hex())\n",
    "...             first_epoch_timestamp = header.timestamp  # <5> 실제 걸린 시간을 계산하기 위해 필요한 현 블록헤더의 타임스탬프를 저장한다.\n",
    "...         if header.bits != expected_bits:  # <3> 공식에 따라 계산한 비트값이 실제 적혀 있는 값과 동일한지 확인한다.\n",
    "...             raise RuntimeError('bad bits at block {}'.format(count))\n",
    "...         previous = header\n",
    "...         count += 1"
   ]
  },
  {
   "cell_type": "code",
   "execution_count": 17,
   "id": "3c5bd01f-e5b3-45ee-9167-be1a4638a90d",
   "metadata": {},
   "outputs": [],
   "source": [
    "from helper import hash256\n",
    "hash0 =bytes.fromhex('c117ea8ec828342f4dfb0ad6bd140e03a50720ece40169ee38b\\\n",
    "dc15d9eb64cf5')\n",
    "hash1=bytes.fromhex('c131474164b412e3406696da1ee20ab0fc9bf41c8f05fa8ceea\\\n",
    "7a08d672d7cc5')"
   ]
  },
  {
   "cell_type": "code",
   "execution_count": 18,
   "id": "b0b9140b-431d-45b7-bf95-b19b9ab9351f",
   "metadata": {},
   "outputs": [
    {
     "data": {
      "text/plain": [
       "b'\\xc1\\x17\\xea\\x8e\\xc8(4/M\\xfb\\n\\xd6\\xbd\\x14\\x0e\\x03\\xa5\\x07 \\xec\\xe4\\x01i\\xee8\\xbd\\xc1]\\x9e\\xb6L\\xf5'"
      ]
     },
     "execution_count": 18,
     "metadata": {},
     "output_type": "execute_result"
    }
   ],
   "source": [
    "hash0"
   ]
  },
  {
   "cell_type": "code",
   "execution_count": 19,
   "id": "45466013-e184-47aa-a19f-f66685583d80",
   "metadata": {},
   "outputs": [
    {
     "name": "stdout",
     "output_type": "stream",
     "text": [
      "8b30c5ba100f6f2e5ad1e2a742e5020491240f8eb514fe97c713c31718ad7ecd\n"
     ]
    }
   ],
   "source": [
    "parent= hash256(hash0+hash1)\n",
    "print(parent.hex())"
   ]
  },
  {
   "cell_type": "markdown",
   "id": "d86500c3-ab94-4cd0-9e37-89498c91aebf",
   "metadata": {},
   "source": [
    "# 11.4 머클부모 레벨"
   ]
  },
  {
   "cell_type": "code",
   "execution_count": 22,
   "id": "58e380eb-9ee0-448b-b6a9-dd8f90134d11",
   "metadata": {},
   "outputs": [],
   "source": [
    "from helper import merkle_parent\n",
    "hex_hashes=[\n",
    "    'c117ea8ec828342f4dfb0ad6bd140e03a50720ece40169ee38bdc15d9eb64cf5',\n",
    "    'c131474164b412e3406696da1ee20ab0fc9bf41c8f05fa8ceea7a08d672d7cc5',\n",
    "    'f391da6ecfeed1814efae39e7fcb3939ae0b02c02ae7d0a5848a66947c0727b0',\n",
    "    '3d238a92a94532b946c90e19c49351c763696cff3db400485b813aecb8a13181',\n",
    "    '10092f2633be5f3ce349bf9ddbde36caa3dd10dfa0ec8106bce23acbff637dae',\n",
    "    \n",
    "]\n"
   ]
  },
  {
   "cell_type": "code",
   "execution_count": 23,
   "id": "1b21ea82-29ec-4153-9905-6e055cc995d3",
   "metadata": {},
   "outputs": [
    {
     "name": "stdout",
     "output_type": "stream",
     "text": [
      "8b30c5ba100f6f2e5ad1e2a742e5020491240f8eb514fe97c713c31718ad7ecd\n",
      "4ffdfadd5cabd22d6a5c81aeb8d8253db01bc990a8898b62b6d6e0414ade260c\n",
      "3ecf6115380c77e8aae56660f5634982ee897351ba906a6837d15ebc3a225df0\n"
     ]
    }
   ],
   "source": [
    "hashes =[bytes.fromhex(x) for x in hex_hashes]\n",
    "if len(hashes) % 2==1:\n",
    "    hashes.append(hashes[-1])\n",
    "parent_level=[]\n",
    "for i in range(0,len(hashes),2):\n",
    "    parent = merkle_parent(hashes[i],hashes[i+1])\n",
    "    parent_level.append(parent)\n",
    "for item in parent_level:\n",
    "    print(item.hex())"
   ]
  },
  {
   "cell_type": "markdown",
   "id": "89d99a88-b01e-4060-9243-2238c61cd1cd",
   "metadata": {},
   "source": [
    "# 11.5. 머클루트"
   ]
  },
  {
   "cell_type": "code",
   "execution_count": 30,
   "id": "d41b9b1b-9b34-4b8f-9948-eaa073418dcc",
   "metadata": {},
   "outputs": [],
   "source": [
    "def merkle_parent_level(hashes):\n",
    "    if len(hashes)==1:\n",
    "        raise RuntimeError('Cannot take parent level')\n",
    "    if len(hashes)%2==1:\n",
    "        hashes.append(hashes[-1])\n",
    "    parent_level=[]\n",
    "    for i in range(0,len(hashes),2):\n",
    "        parent = merkle_parent(hashes[i],hashes[i+1])\n",
    "        parent_level.append(parent)\n",
    "    return parent_level"
   ]
  },
  {
   "cell_type": "code",
   "execution_count": 27,
   "id": "fa048ece-3207-407b-adfd-8a6ed6547d91",
   "metadata": {},
   "outputs": [],
   "source": [
    "# from helper import merkle_parent_level\n",
    "hex_hashes=[\n",
    "    'c117ea8ec828342f4dfb0ad6bd140e03a50720ece40169ee38bdc15d9eb64cf5',\n",
    "    'c131474164b412e3406696da1ee20ab0fc9bf41c8f05fa8ceea7a08d672d7cc5',\n",
    "    'f391da6ecfeed1814efae39e7fcb3939ae0b02c02ae7d0a5848a66947c0727b0',\n",
    "    '3d238a92a94532b946c90e19c49351c763696cff3db400485b813aecb8a13181',\n",
    "    '10092f2633be5f3ce349bf9ddbde36caa3dd10dfa0ec8106bce23acbff637dae',\n",
    "    '7d37b3d54fa6a64869084bfd2e831309118b9e833610e6228adacdbd1b4ba161',\n",
    "    '8118a77e542892fe15ae3fc771a4abfd2f5d5d5997544c3487ac36b5c85170fc',\n",
    "    'dff6879848c2c9b62fe652720b8df5272093acfaa45a43cdb3696fe2466a3877',\n",
    "    'b825c0745f46ac58f7d3759e6dc535a1fec7820377f24d4c2c6ad2cc55c0cb59',\n",
    "    '95513952a04bd8992721e9b7e2937f1c04ba31e0469fbe615a78197f68f52b7c',\n",
    "    '2e6d722e5e4dbdf2447ddecc9f7dabb8e299bae921c99ad5b0184cd9eb8e5908',\n",
    "    'b13a750047bc0bdceb2473e5fe488c2596d7a7124b4e716fdd29b046ef99bbf0',\n",
    "\n",
    "]"
   ]
  },
  {
   "cell_type": "code",
   "execution_count": 31,
   "id": "1e6efca4-c457-43b4-9a2b-8bedea9bb995",
   "metadata": {},
   "outputs": [
    {
     "name": "stdout",
     "output_type": "stream",
     "text": [
      "020987f024f020be3858f4ddc17b52f81010c9941a4f67799235e8e55e68ba66\n"
     ]
    }
   ],
   "source": [
    "hashes =[bytes.fromhex(x) for x in hex_hashes]\n",
    "current_hashes = hashes\n",
    "while len(current_hashes)>1:\n",
    "    current_hashes = merkle_parent_level(current_hashes)\n",
    "print(current_hashes[0].hex())"
   ]
  },
  {
   "cell_type": "code",
   "execution_count": null,
   "id": "f6b43bbe-e45e-4882-93bc-6c6a2733b695",
   "metadata": {},
   "outputs": [],
   "source": []
  },
  {
   "cell_type": "code",
   "execution_count": 32,
   "id": "9898eaf3-e2e1-42b6-9436-c07a2905935a",
   "metadata": {},
   "outputs": [],
   "source": [
    "def merkle_root(hashes):\n",
    "    current_level=hashes\n",
    "    while len(current_level)>1:\n",
    "        current_level = merkle_parent_level(current_level)\n",
    "    return current_level[0]"
   ]
  },
  {
   "cell_type": "code",
   "execution_count": 34,
   "id": "dd5e60c9-1416-45be-a163-2351fab7c88b",
   "metadata": {},
   "outputs": [
    {
     "name": "stdout",
     "output_type": "stream",
     "text": [
      "cef9d1f139ff094cfeb60ac4df835e70a2eceb17fc7efc7caf58cd9f9033dc15\n"
     ]
    }
   ],
   "source": [
    "\n",
    "tx_hex_hashes = [\n",
    "    'c117ea8ec828342f4dfb0ad6bd140e03a50720ece40169ee38bdc15d9eb64cf5',\n",
    "    'c131474164b412e3406696da1ee20ab0fc9bf41c8f05fa8ceea7a08d672d7cc5',\n",
    "    'f391da6ecfeed1814efae39e7fcb3939ae0b02c02ae7d0a5848a66947c0727b0',\n",
    "    '3d238a92a94532b946c90e19c49351c763696cff3db400485b813aecb8a13181',\n",
    "    '10092f2633be5f3ce349bf9ddbde36caa3dd10dfa0ec8106bce23acbff637dae',\n",
    "    '7d37b3d54fa6a64869084bfd2e831309118b9e833610e6228adacdbd1b4ba161',\n",
    "    '8118a77e542892fe15ae3fc771a4abfd2f5d5d5997544c3487ac36b5c85170fc',\n",
    "]\n",
    "tx_hashes = [bytes.fromhex(x) for x in tx_hex_hashes]\n",
    "hashes = [h[::-1] for h in tx_hashes]\n",
    "print(merkle_root(hashes)[::-1].hex())"
   ]
  },
  {
   "cell_type": "code",
   "execution_count": 35,
   "id": "02d8bef3-194d-47da-a1de-280635b41f32",
   "metadata": {},
   "outputs": [],
   "source": [
    "class Block:\n",
    "    def __init__(self, version,prev_block, merkel_root,\n",
    "                 timestamp,bits,nonce, tx_hashes=None):\n",
    "        self.version = version\n",
    "        self.prev_block = prev_block\n",
    "        self.merkle_root = merkle_root\n",
    "        self.timestamp = timestamp\n",
    "        self.bits=bits\n",
    "        self.nonce=nonce\n",
    "        self.tx_hashes=tx_hashes"
   ]
  },
  {
   "cell_type": "markdown",
   "id": "65f5598a-ce5c-4a4c-85cf-698d66792d36",
   "metadata": {},
   "source": [
    "# 연습문제 11.4 Block 클래스에서 validate_merkle_root 메서드를 작성하시오."
   ]
  },
  {
   "cell_type": "code",
   "execution_count": 36,
   "id": "dc6e357b-cbce-4724-90b0-9cfe48686278",
   "metadata": {},
   "outputs": [],
   "source": [
    "class Block:\n",
    "    def validate_merkle_root(self):\n",
    "        hashes = [h[::-1] for h in self.tx_hashes]\n",
    "        root = merkle_root(hashes)\n",
    "        return root[::-1]==self.merkle_root"
   ]
  },
  {
   "cell_type": "markdown",
   "id": "57e7f70f-f413-4346-9a5c-cc2579c8de9c",
   "metadata": {},
   "source": [
    "# 연습문제 11.5. 27개의 단말 노드가 달린 머클트리를 구성하고 모든 노드를 None 값으로 초기화하시오. 그리고 머클트리의 각 레벨을 출력하시오."
   ]
  },
  {
   "cell_type": "code",
   "execution_count": 37,
   "id": "17b9f6e2-3fef-48ca-a524-386504f205d3",
   "metadata": {},
   "outputs": [
    {
     "name": "stdout",
     "output_type": "stream",
     "text": [
      "[None]\n",
      "[None, None]\n",
      "[None, None, None, None]\n",
      "[None, None, None, None, None, None, None]\n",
      "[None, None, None, None, None, None, None, None, None, None, None, None, None, None]\n",
      "[None, None, None, None, None, None, None, None, None, None, None, None, None, None, None, None, None, None, None, None, None, None, None, None, None, None, None]\n"
     ]
    }
   ],
   "source": [
    "import math\n",
    "total = 27\n",
    "max_depth = math.ceil(math.log(total,2))\n",
    "merkle_tree=[]\n",
    "for depth in range(max_depth+1):\n",
    "    num_items = math.ceil(total / 2**(max_depth-depth))\n",
    "    level_hashes = [None]*num_items\n",
    "    merkle_tree.append(level_hashes)\n",
    "for level in merkle_tree:\n",
    "    print(level)"
   ]
  },
  {
   "cell_type": "markdown",
   "id": "29f2e19b-1664-42ee-95c6-b300c2c61e26",
   "metadata": {},
   "source": [
    "# 연습문제 11.6. MerkleBlcok 클래스의 parse 메서드를 작성하시오"
   ]
  },
  {
   "cell_type": "code",
   "execution_count": 1,
   "id": "87828f38-3ab9-4445-a3ae-59a844b7e8b5",
   "metadata": {},
   "outputs": [],
   "source": [
    "class MerkleBlock:\n",
    "    @classmethod\n",
    "    def parse(cls,s):\n",
    "        version = little_endian_to_int(s.read(4))\n",
    "        prev_block=s.read(32)[::-1]\n",
    "        merkle_root=s.read(32)[::-1]\n",
    "        timestamp = little_endian_to_int(s.read(4))\n",
    "        bits = s.read(4)\n",
    "        nonce=s.read(4)\n",
    "        total = little_endian_to_int(s.read(4))\n",
    "        num_hashes = read_varint(s)\n",
    "        hashes = []\n",
    "        for _ in range(num_hashes):\n",
    "            hashes.append(s.read(32)[::-1])\n",
    "        flags_length = read_varint(s)\n",
    "        flags = s.read(flags_length)\n",
    "        return cls(version, prev_block, merkle_root, timestamp, bits,\n",
    "        nonce,total,hashes,flags)\n",
    "        "
   ]
  },
  {
   "cell_type": "markdown",
   "id": "0f6739d7-1195-45d7-bbe9-e5fa2452a6e2",
   "metadata": {},
   "source": [
    "# 연습문제 11.7. MerkleBlcok 클래스의 is_valid 메서드를 작성하시오"
   ]
  },
  {
   "cell_type": "code",
   "execution_count": 2,
   "id": "1a65eef0-15e2-44b8-b670-ada792f8c01d",
   "metadata": {},
   "outputs": [],
   "source": [
    "class MerkleBlock:\n",
    "    def is_valid(self):\n",
    "        flag_bits = bytes_to_bit_field(self.flags)\n",
    "        hashes=[h[::-1]for h in self.hashes]\n",
    "        merkle_tree = MerkleTree(self.total)\n",
    "        merkle_tree.populate_tree(flag_bits,hashes)\n",
    "        return merkle_tree.root()[::-1]==self.merkle_root"
   ]
  },
  {
   "cell_type": "code",
   "execution_count": null,
   "id": "78060f1e-3da7-4d06-ab29-b31410104024",
   "metadata": {},
   "outputs": [],
   "source": []
  },
  {
   "cell_type": "code",
   "execution_count": null,
   "id": "a1aa7b94-c099-4a66-a2a0-4be340d5b218",
   "metadata": {},
   "outputs": [],
   "source": []
  }
 ],
 "metadata": {
  "kernelspec": {
   "display_name": "py39_tf214",
   "language": "python",
   "name": "py39_tf214"
  },
  "language_info": {
   "codemirror_mode": {
    "name": "ipython",
    "version": 3
   },
   "file_extension": ".py",
   "mimetype": "text/x-python",
   "name": "python",
   "nbconvert_exporter": "python",
   "pygments_lexer": "ipython3",
   "version": "3.9.19"
  },
  "widgets": {
   "application/vnd.jupyter.widget-state+json": {
    "state": {},
    "version_major": 2,
    "version_minor": 0
   }
  }
 },
 "nbformat": 4,
 "nbformat_minor": 5
}
