{
 "cells": [
  {
   "cell_type": "markdown",
   "id": "9e0fa325-d33d-423e-b356-881ac25f4ed3",
   "metadata": {},
   "source": [
    "블룸 필터는 어떤 집합 원소를 정해진 개수의 그룸 중 1개 그룹으로 대응시키는 함수"
   ]
  },
  {
   "cell_type": "code",
   "execution_count": 1,
   "id": "fb3bf715-fbf3-477d-8f58-a5ee44eaab4f",
   "metadata": {},
   "outputs": [
    {
     "name": "stdout",
     "output_type": "stream",
     "text": [
      "[0, 0, 0, 0, 0, 0, 0, 0, 0, 1]\n"
     ]
    }
   ],
   "source": [
    "from helper import hash256\n",
    "bit_field_size = 10\n",
    "bit_field=[0]*bit_field_size\n",
    "h = hash256(b'hello world')\n",
    "bit = int.from_bytes(h,'big')%bit_field_size\n",
    "bit_field[bit]=1\n",
    "print(bit_field)"
   ]
  },
  {
   "cell_type": "markdown",
   "id": "92ef80fd-4800-414f-adea-7b8a5a4d7f0c",
   "metadata": {},
   "source": [
    "## 연습문제 12.1 hash160해시함수를 사용해 두 원소 hello world와 goodbye를 위한 10비트 블룸 필터를 생성하세요"
   ]
  },
  {
   "cell_type": "code",
   "execution_count": 2,
   "id": "93cb7119-8112-4055-b5b5-f61d909d7da0",
   "metadata": {},
   "outputs": [
    {
     "name": "stdout",
     "output_type": "stream",
     "text": [
      "[1, 1, 0, 0, 0, 0, 0, 0, 0, 0]\n"
     ]
    }
   ],
   "source": [
    "from helper import hash160\n",
    "bit_field_size = 10\n",
    "bit_field=[0]*bit_field_size\n",
    "for item in (b'hello world',b'goodbye'):\n",
    "    h = hash160(item)  # SHA-256 해시 계산\n",
    "    bit = int.from_bytes(h, 'big') % bit_field_size  # 비트 필드 내 인덱스 계산\n",
    "    bit_field[bit] = 1  # 해당 인덱스를 1로 설정\n",
    "print(bit_field)"
   ]
  },
  {
   "cell_type": "code",
   "execution_count": 3,
   "id": "9dd28c45-1b0b-4782-aa90-c6f839c59907",
   "metadata": {},
   "outputs": [
    {
     "name": "stdout",
     "output_type": "stream",
     "text": [
      "[0, 0, 1, 0, 0, 0, 0, 0, 0, 1]\n"
     ]
    }
   ],
   "source": [
    "from helper import hash256, hash160\n",
    "\n",
    "bit_field_size = 10  # 비트 필드 크기\n",
    "bit_field = [0] * bit_field_size  # 초기화된 비트 필드\n",
    "\n",
    "for item in (b'hello world', b'goodbye'):\n",
    "    for hash_function in (hash256,hash160):\n",
    "        h = hash256(item)  # SHA-256 해시 계산\n",
    "        bit = int.from_bytes(h, 'big') % bit_field_size  # 비트 필드 내 인덱스 계산\n",
    "        bit_field[bit] = 1  # 해당 인덱스를 1로 설정\n",
    "    \n",
    "\n",
    "print(bit_field)\n"
   ]
  },
  {
   "cell_type": "markdown",
   "id": "f4d7f169-7ada-46dc-b7cb-3e896de9747c",
   "metadata": {},
   "source": [
    "### 12.1.1. 다중 해시함수 사용"
   ]
  },
  {
   "cell_type": "code",
   "execution_count": 4,
   "id": "c4bbe619-4b4e-48df-8913-68dbcd6edc08",
   "metadata": {},
   "outputs": [
    {
     "name": "stdout",
     "output_type": "stream",
     "text": [
      "[1, 1, 1, 0, 0, 0, 0, 0, 0, 1]\n"
     ]
    }
   ],
   "source": [
    "from helper import hash256, hash160\n",
    "\n",
    "bit_field_size = 10  # 비트 필드 크기\n",
    "bit_field = [0] * bit_field_size  # 초기화된 비트 필드\n",
    "\n",
    "for item in (b'hello world', b'goodbye'):\n",
    "    for hash_function in (hash256,hash160):\n",
    "        h = hash_function(item)  # SHA-256 해시 계산\n",
    "        bit = int.from_bytes(h, 'big') % bit_field_size  # 비트 필드 내 인덱스 계산\n",
    "        bit_field[bit] = 1  # 해당 인덱스를 1로 설정\n",
    "    \n",
    "\n",
    "print(bit_field)\n"
   ]
  },
  {
   "cell_type": "markdown",
   "id": "512d8219-aad7-4f9b-9d49-3de944268446",
   "metadata": {},
   "source": [
    "맨 앞과 맨뒤에 1값은 hello world, 중간 1값 2개는 goodbye (블룸필터)"
   ]
  },
  {
   "cell_type": "markdown",
   "id": "47fc04e1-fd9d-45b9-b1b7-398fc6239782",
   "metadata": {},
   "source": [
    "# 12.2. BIP 0037 블룸 필터"
   ]
  },
  {
   "cell_type": "code",
   "execution_count": 7,
   "id": "8aa2808d-653b-43e6-ab9e-59492e74df96",
   "metadata": {},
   "outputs": [],
   "source": [
    "from helper import murmur3 # 순수 파이썬 코드로 구현되어 있다.\n",
    "from bloomfilter import BIP37_CONSTANT # fba4c795이다.\n",
    "field_size=2\n",
    "num_functions = 2\n",
    "tweak= 42\n",
    "bit_field_size = field_size*8\n",
    "bit_field = [0]*bit_field_size\n",
    "for phrase in (b'hello world', b'goodbye'):\n",
    "    for i in range(num_functions):\n",
    "        seed = i*BIP37_CONSTANT + tweak\n",
    "        h=murmur3(phrase, seed=seed)\n",
    "        bit = h % bit_field_size  # 비트 필드 내 인덱스 계산\n",
    "        bit_field[bit] = 1  # 해당 인덱스를 1로 설정"
   ]
  },
  {
   "cell_type": "code",
   "execution_count": 8,
   "id": "f6554236-8985-48fc-a9f0-6b5be598fbd1",
   "metadata": {},
   "outputs": [
    {
     "data": {
      "text/plain": [
       "[0, 0, 0, 0, 0, 1, 1, 0, 0, 1, 1, 0, 0, 0, 0, 0]"
      ]
     },
     "execution_count": 8,
     "metadata": {},
     "output_type": "execute_result"
    }
   ],
   "source": [
    "bit_field"
   ]
  },
  {
   "cell_type": "code",
   "execution_count": 9,
   "id": "eb5fd1fe-b31b-407b-ace8-922910dfa4ca",
   "metadata": {},
   "outputs": [],
   "source": [
    "class BloomFilter:\n",
    "    def __init__(self,size,function_count,teak):\n",
    "        self.size = size\n",
    "        self.bit_field = [0]*(size*8)\n",
    "        self.function_count = function_count\n",
    "        self.tweak=teak"
   ]
  },
  {
   "cell_type": "markdown",
   "id": "dade2c48-9aa6-4a4d-9c6c-39a8298f8fd5",
   "metadata": {},
   "source": [
    "## 연습문제 12.2 size 10, fun_count=5, tweak=99인 필터의 출력값을 바이트 열로 출력하라"
   ]
  },
  {
   "cell_type": "code",
   "execution_count": 10,
   "id": "1a85f60b-1b1d-4123-9629-381bb9bc2759",
   "metadata": {},
   "outputs": [
    {
     "name": "stdout",
     "output_type": "stream",
     "text": [
      "4000600a080000010940\n"
     ]
    }
   ],
   "source": [
    "from bloomfilter import BloomFilter, BIP37_CONSTANT\n",
    "from helper import bit_field_to_bytes, murmur3\n",
    "field_size = 10\n",
    "function_count = 5\n",
    "tweak = 99\n",
    "items = (b'Hello World',  b'Goodbye!')\n",
    "bit_field_size = field_size * 8\n",
    "bit_field = [0] * bit_field_size\n",
    "for item in items:\n",
    "    for i in range(function_count):\n",
    "        seed = i * BIP37_CONSTANT + tweak\n",
    "        h = murmur3(item, seed=seed)\n",
    "        bit = h % bit_field_size\n",
    "        bit_field[bit] = 1\n",
    "print(bit_field_to_bytes(bit_field).hex())"
   ]
  },
  {
   "cell_type": "markdown",
   "id": "dd0029d5-c41c-4405-9477-de2ce6fff7f1",
   "metadata": {},
   "source": [
    "## 연습문제 12.3 BloomFIlter 클래스의 add 메서드를 작성하시오."
   ]
  },
  {
   "cell_type": "code",
   "execution_count": 12,
   "id": "e5a959be-b9fc-43ef-92ff-f72f8d4cebf1",
   "metadata": {},
   "outputs": [],
   "source": [
    "class BloomFilter:\n",
    "    def add(self,item):\n",
    "        for i in range(self.function_count):\n",
    "            seed = i*BIP37_CONSTANT + self.tweak\n",
    "            h = murmur3(item,seed=seed)\n",
    "            bit = h%(self.size*8)\n",
    "            self.bit_field[bit]=1"
   ]
  },
  {
   "cell_type": "markdown",
   "id": "3d9ddd3d-83d1-485a-81dc-00be63f5ee05",
   "metadata": {},
   "source": [
    "## 연습문제 12.4 Bloomfilter의 filterload 메서드를 작성하시오."
   ]
  },
  {
   "cell_type": "code",
   "execution_count": 13,
   "id": "35950263-e552-488c-a921-670296303259",
   "metadata": {},
   "outputs": [],
   "source": [
    "class BloomFilter:\n",
    "    def filterload(self, flag=1):\n",
    "        payload = encode_varint(self.size)\n",
    "        payload += self.filter_bytes()\n",
    "        payload += int_to_little_endian(self.function_count,4)\n",
    "        payload += int_to_little_endian(self.tweak,4)\n",
    "        payload += int_to_little_endian(flag,4)\n",
    "        return GenericMessage(b'filterload',payload)\n"
   ]
  },
  {
   "cell_type": "markdown",
   "id": "0b1d72d9-d80c-47fa-b576-dd7375539405",
   "metadata": {},
   "source": [
    "## 연습문제 12.5. GetDataMessage클래스의 serialize 메서드를 작성하시오"
   ]
  },
  {
   "cell_type": "code",
   "execution_count": 14,
   "id": "89df0baf-57a9-439d-b72e-76c9d9717e15",
   "metadata": {},
   "outputs": [],
   "source": [
    "class GetDataMessage:\n",
    "    def serialize(self):\n",
    "        result = encode_varint(len(self.data))\n",
    "        for data_type, idntifier in self.data:\n",
    "            result += int_to_little_endian(data_type,4)\n",
    "            result += identifier[::-1]\n",
    "        return result"
   ]
  },
  {
   "cell_type": "markdown",
   "id": "9697db1f-7e74-4fd7-ab97-991510795dfa",
   "metadata": {},
   "source": [
    "## 연습문제 12.6. 본인 주소의 UTXO를 블룸 필터를 이용해 찾고 찾은 UTXO 안의 비트코인을 자신의 다른 주소로 보내는 트랜잭션을 작성하시오. 그리고 블록에 추가됬는지 확인하시오."
   ]
  },
  {
   "cell_type": "code",
   "execution_count": 15,
   "id": "a47d0bb4-36d5-451b-9ad3-83d2113c5917",
   "metadata": {},
   "outputs": [],
   "source": [
    "import time\n",
    "from block import Block\n",
    "from bloomfilter import BloomFilter\n",
    "from ecc import PrivateKey\n",
    "from helper import (\n",
    "    decode_base58,\n",
    "    encode_varint,\n",
    "    hash256,\n",
    "    little_endian_to_int,\n",
    "    read_varint,\n",
    ")\n",
    "from merkleblock import MerkleBlock\n",
    "from network import (\n",
    "    GetDataMessage,\n",
    "    GetHeadersMessage,\n",
    "    HeadersMessage,\n",
    "    NetworkEnvelope,\n",
    "    SimpleNode,\n",
    "    TX_DATA_TYPE,\n",
    "    FILTERED_BLOCK_DATA_TYPE,\n",
    ")\n",
    "from script import p2pkh_script, Script\n",
    "from tx import Tx, TxIn, TxOut"
   ]
  },
  {
   "cell_type": "code",
   "execution_count": 17,
   "id": "ecf1beb5-d249-42af-8f64-22b5870ffaeb",
   "metadata": {},
   "outputs": [
    {
     "ename": "NotImplementedError",
     "evalue": "",
     "output_type": "error",
     "traceback": [
      "\u001b[1;31m---------------------------------------------------------------------------\u001b[0m",
      "\u001b[1;31mNotImplementedError\u001b[0m                       Traceback (most recent call last)",
      "Cell \u001b[1;32mIn[17], line 17\u001b[0m\n\u001b[0;32m     15\u001b[0m bf \u001b[38;5;241m=\u001b[39m BloomFilter(\u001b[38;5;241m30\u001b[39m, \u001b[38;5;241m5\u001b[39m, \u001b[38;5;241m90210\u001b[39m)\n\u001b[0;32m     16\u001b[0m \u001b[38;5;66;03m# add the h160 to the Bloom Filter\u001b[39;00m\n\u001b[1;32m---> 17\u001b[0m \u001b[43mbf\u001b[49m\u001b[38;5;241;43m.\u001b[39;49m\u001b[43madd\u001b[49m\u001b[43m(\u001b[49m\u001b[43mh160\u001b[49m\u001b[43m)\u001b[49m\n\u001b[0;32m     18\u001b[0m \u001b[38;5;66;03m# complete the handshake\u001b[39;00m\n\u001b[0;32m     19\u001b[0m node\u001b[38;5;241m.\u001b[39mhandshake()\n",
      "File \u001b[1;32m~\\programmingbitcoin\\code-ch12\\bloomfilter.py:32\u001b[0m, in \u001b[0;36mBloomFilter.add\u001b[1;34m(self, item)\u001b[0m\n\u001b[0;32m     26\u001b[0m \u001b[38;5;250m\u001b[39m\u001b[38;5;124;03m'''Add an item to the filter'''\u001b[39;00m\n\u001b[0;32m     27\u001b[0m \u001b[38;5;66;03m# iterate self.function_count number of times\u001b[39;00m\n\u001b[0;32m     28\u001b[0m     \u001b[38;5;66;03m# BIP0037 spec seed is i*BIP37_CONSTANT + self.tweak\u001b[39;00m\n\u001b[0;32m     29\u001b[0m     \u001b[38;5;66;03m# get the murmur3 hash given that seed\u001b[39;00m\n\u001b[0;32m     30\u001b[0m     \u001b[38;5;66;03m# set the bit at the hash mod the bitfield size (self.size*8)\u001b[39;00m\n\u001b[0;32m     31\u001b[0m     \u001b[38;5;66;03m# set the bit field at bit to be 1\u001b[39;00m\n\u001b[1;32m---> 32\u001b[0m \u001b[38;5;28;01mraise\u001b[39;00m \u001b[38;5;167;01mNotImplementedError\u001b[39;00m\n",
      "\u001b[1;31mNotImplementedError\u001b[0m: "
     ]
    }
   ],
   "source": [
    "last_block_hex = '00000000000000a03f9432ac63813c6710bfe41712ac5ef6faab093f\\\n",
    "e2917636'\n",
    "secret = little_endian_to_int(hash256(b'jaewon Kim'))\n",
    "private_key = PrivateKey(secret=secret)\n",
    "addr = private_key.point.address(testnet=True)\n",
    "h160 = decode_base58(addr)\n",
    "target_address = 'mwJn1YPMq7y5F8J3LkC5Hxg9PHyZ5K4cFv'\n",
    "target_h160 = decode_base58(target_address)\n",
    "target_script = p2pkh_script(target_h160)\n",
    "fee = 5000  # fee in satoshis\n",
    "# connect to testnet.programmingbitcoin.com in testnet mode\n",
    "node = SimpleNode('testnet-seed.bitcoin.jonasschnelli.ch', testnet=True, logging=\\\n",
    "False)\n",
    "# Create a Bloom Filter of size 30 and 5 functions. Add a tweak.\n",
    "bf = BloomFilter(30, 5, 90210)\n",
    "# add the h160 to the Bloom Filter\n",
    "bf.add(h160)\n",
    "# complete the handshake\n",
    "node.handshake()\n",
    "# load the Bloom Filter with the filterload command\n",
    "node.send(bf.filterload())\n",
    "# set start block to last_block from above\n",
    "start_block = bytes.fromhex(last_block_hex)\n",
    "# send a getheaders message with the starting block\n",
    "getheaders = GetHeadersMessage(start_block=start_block)\n",
    "node.send(getheaders)\n",
    "# wait for the headers message\n",
    "headers = node.wait_for(HeadersMessage)\n",
    "# store the last block as None\n",
    "last_block = None\n",
    "# initialize the GetDataMessage\n",
    "getdata = GetDataMessage()\n",
    "# loop through the blocks in the headers"
   ]
  },
  {
   "cell_type": "code",
   "execution_count": null,
   "id": "ab1dd3bf-c23e-4a0a-b944-060df52f7651",
   "metadata": {},
   "outputs": [],
   "source": [
    "for b in headers.blocks:\n",
    "    # check that the proof of work on the block is valid\n",
    "    if not b.check_pow():\n",
    "        raise RuntimeError('proof of work is invalid')\n",
    "    # check that this block's prev_block is the last block\n",
    "    if last_block is not None and b.prev_block != last_block:\n",
    "        raise RuntimeError('chain broken')\n",
    "    # add a new item to the getdata message\n",
    "    # should be FILTERED_BLOCK_DATA_TYPE and block hash\n",
    "    getdata.add_data(FILTERED_BLOCK_DATA_TYPE, b.hash())\n",
    "    # set the last block to the current hash\n",
    "    last_block = b.hash()"
   ]
  },
  {
   "cell_type": "code",
   "execution_count": null,
   "id": "7d1e5592-ced2-4241-bef6-bc3dd3812fa9",
   "metadata": {},
   "outputs": [],
   "source": [
    "# send the getdata message\n",
    "node.send(getdata)\n",
    "# initialize prev_tx, prev_index, and prev_amount to None\n",
    "prev_tx, prev_index, prev_amount = None, None, None"
   ]
  },
  {
   "cell_type": "code",
   "execution_count": null,
   "id": "e92be92c-eb69-45ae-a639-46575a5776bb",
   "metadata": {},
   "outputs": [],
   "source": [
    "# loop while prev_tx is None\n",
    "while prev_tx is None:\n",
    "    # wait for the merkleblock or tx commands\n",
    "    message = node.wait_for(MerkleBlock, Tx)\n",
    "    # if we have the merkleblock command\n",
    "    if message.command == b'merkleblock':\n",
    "        # check that the MerkleBlock is valid\n",
    "        if not message.is_valid():\n",
    "            raise RuntimeError('invalid merkle proof')\n",
    "    # else we have the tx command\n",
    "    else:\n",
    "        # set the tx's testnet to be True\n",
    "        message.testnet = True\n",
    "        # loop through the tx outs\n",
    "        for i, tx_out in enumerate(message.tx_outs):\n",
    "            # if our output has the same address as our address we found it\n",
    "            if tx_out.script_pubkey.address(testnet=True) == addr:\n",
    "                # we found our utxo; set prev_tx, prev_index, and tx\n",
    "                prev_tx = message.hash()\n",
    "                prev_index = i\n",
    "                prev_amount = tx_out.amount\n",
    "                print('found: {}:{}'.format(prev_tx.hex(), prev_index))\n",
    "# 저자 출력 결과  ;  found: b2cddd41d18d00910f88c31aa58c6816a190b8fc30fe7c665e1cd2ec60efdf3f:7"
   ]
  },
  {
   "cell_type": "code",
   "execution_count": null,
   "id": "69dceb0b-eddc-417e-8cf6-a5a65cf32b82",
   "metadata": {},
   "outputs": [],
   "source": [
    "# create the TxIn\n",
    "tx_in = TxIn(prev_tx, prev_index)\n",
    "# calculate the output amount (previous amount minus the fee)\n",
    "output_amount = prev_amount - fee\n",
    "# create a new TxOut to the target script with the output amount\n",
    "tx_out = TxOut(output_amount, target_script)\n",
    "# create a new transaction with the one input and one output\n",
    "tx_obj = Tx(1, [tx_in], [tx_out], 0, testnet=True)\n",
    "# sign the only input of the transaction\n",
    "print(tx_obj.sign_input(0, private_key))"
   ]
  },
  {
   "cell_type": "code",
   "execution_count": null,
   "id": "9b3d7ee3-e144-4e78-9ec7-630aebbdc92d",
   "metadata": {},
   "outputs": [],
   "source": [
    "# serialize and hex to see what it looks like\n",
    "print(tx_obj.serialize().hex())\n",
    "# 저자 출력  결과 ; 01000000013fdfef60ecd21c5e667cfe30fcb890a116688ca51ac3880f91008dd141ddcdb20700\\\n",
    "# 00006b483045022100ff77d2559261df5490ed00d231099c4b8ea867e6ccfe8e3e6d077313ed4f\\\n",
    "# 1428022033a1db8d69eb0dc376f89684d1ed1be75719888090388a16f1e8eedeb8067768012103\\\n",
    "# dc585d46cfca73f3a75ba1ef0c5756a21c1924587480700c6eb64e3f75d22083ffffffff019334\\\n",
    "# e500000000001976a914ad346f8eb57dee9a37981716e498120ae80e44f788ac00000000\n",
    "    "
   ]
  },
  {
   "cell_type": "code",
   "execution_count": null,
   "id": "12e5b927-bd84-4896-8947-7b21f993c94d",
   "metadata": {},
   "outputs": [],
   "source": [
    "# send this signed transaction on the network\n",
    "node.send(tx_obj)\n",
    "# wait a sec so this message goes through with time.sleep(1)\n",
    "time.sleep(1)\n",
    "# now ask for this transaction from the other node\n",
    "# create a GetDataMessage\n",
    "getdata = GetDataMessage()\n",
    "# ask for our transaction by adding it to the message\n",
    "getdata.add_data(TX_DATA_TYPE, tx_obj.hash())\n",
    "# send the message\n",
    "node.send(getdata)\n",
    "# now wait for a Tx response\n",
    "received_tx = node.wait_for(Tx)\n",
    "# if the received tx has the same id as our tx, we are done!\n",
    "if received_tx.id() == tx_obj.id():\n",
    "    print('success!')"
   ]
  },
  {
   "cell_type": "code",
   "execution_count": null,
   "id": "dd7cc2b6-aa54-42a2-8ae8-b2bda69e2c3e",
   "metadata": {},
   "outputs": [],
   "source": []
  }
 ],
 "metadata": {
  "kernelspec": {
   "display_name": "py39_tf214",
   "language": "python",
   "name": "py39_tf214"
  },
  "language_info": {
   "codemirror_mode": {
    "name": "ipython",
    "version": 3
   },
   "file_extension": ".py",
   "mimetype": "text/x-python",
   "name": "python",
   "nbconvert_exporter": "python",
   "pygments_lexer": "ipython3",
   "version": "3.9.19"
  },
  "widgets": {
   "application/vnd.jupyter.widget-state+json": {
    "state": {},
    "version_major": 2,
    "version_minor": 0
   }
  }
 },
 "nbformat": 4,
 "nbformat_minor": 5
}
