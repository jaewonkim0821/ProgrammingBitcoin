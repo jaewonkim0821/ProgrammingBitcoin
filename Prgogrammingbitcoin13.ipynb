{
 "cells": [
  {
   "cell_type": "markdown",
   "id": "d9679bf1-671d-440c-ab78-43fd5d894c7a",
   "metadata": {},
   "source": [
    "# 13.4. p2wpkh와 p2sh-p2wpkh 코딩하기"
   ]
  },
  {
   "cell_type": "code",
   "execution_count": 1,
   "id": "e7f00f07-e4a3-489f-8584-2d0c46696d34",
   "metadata": {},
   "outputs": [],
   "source": [
    "class Tx:\n",
    "    command = b'tx'\n",
    "\n",
    "    def __init__(self, version, tx_ins, tx_outs,locktime, testnet=False, segwit = False):\n",
    "        self.version = version\n",
    "        self.tx_ins = tx_ins\n",
    "        self.tx_outs = tx_outs\n",
    "        self.locktime = locktime\n",
    "        self.testnet = testnet\n",
    "        self.segwit = segwit\n",
    "        self._hash_prevouts = None\n",
    "        self._hash_sequence = None\n",
    "        self._hash_outputs=None\n",
    "        "
   ]
  },
  {
   "cell_type": "code",
   "execution_count": 3,
   "id": "5b0b50f9-2ba7-4ec2-bcac-0239c8627829",
   "metadata": {},
   "outputs": [],
   "source": [
    "class Tx:\n",
    "    @classmethod\n",
    "    def parse(cls,s,testnet=False):\n",
    "        s.read(4) # <1> 세그윗 트랜잭션인지 확인하기 위해 다섯 번쨰 바이트를 조사한다.\n",
    "        if s.read(1)==b'\\x00': # <2> : 다섯 번쨰 바이트가 0이면 세그윗 트랜잭션이다.\n",
    "            parse_method = cls.parse_segwit\n",
    "        else:\n",
    "            parse_method = cls.parse_legacy\n",
    "        s.seek(-5,1) # <3> : 스트림 포인터를 처음 5바이트를 조사하기 전으로 돌려놓는다.\n",
    "        return parse_method(s,testnet=testnet)\n",
    "\n",
    "    @classmethod\n",
    "    def parse_legacy(cls,s,testnet=False):\n",
    "        version = little_endian_to_int(s.read(4)) # <4> : 예전 parse 메서드의 이름을 parse_legacy로 변경한다.\n",
    "        num_inputs = read_varint(s)\n",
    "        inputs=[]\n",
    "        for _ in range(num_outputs):\n",
    "            inputs.append(TxIn.parse(s))\n",
    "        num_outputs=read_varint(s)\n",
    "        outputs=[]\n",
    "        for _ in range(num_outputs):\n",
    "            outputs.append(TxOut.parse(s))\n",
    "        locktime = little_endian_to_int(s.read(4))\n",
    "        return cls(version, inputs, outputs, locktime, testnet =testnet, segwit=False)\n",
    "        "
   ]
  },
  {
   "cell_type": "code",
   "execution_count": 4,
   "id": "2ff1f917-06c9-41b8-80c2-6983bf89ff42",
   "metadata": {},
   "outputs": [
    {
     "data": {
      "text/plain": [
       "<slot wrapper '__init__' of 'object' objects>"
      ]
     },
     "execution_count": 4,
     "metadata": {},
     "output_type": "execute_result"
    }
   ],
   "source": [
    "Tx.__init__"
   ]
  },
  {
   "cell_type": "code",
   "execution_count": 5,
   "id": "a57ccf6f-caaa-4d46-be01-733476063068",
   "metadata": {},
   "outputs": [
    {
     "data": {
      "text/plain": [
       "<bound method Tx.parse of <class '__main__.Tx'>>"
      ]
     },
     "execution_count": 5,
     "metadata": {},
     "output_type": "execute_result"
    }
   ],
   "source": [
    "Tx.parse"
   ]
  },
  {
   "cell_type": "code",
   "execution_count": 6,
   "id": "8a6bb001-c163-44ef-9c36-f8796edc043c",
   "metadata": {},
   "outputs": [
    {
     "data": {
      "text/plain": [
       "<bound method Tx.parse_legacy of <class '__main__.Tx'>>"
      ]
     },
     "execution_count": 6,
     "metadata": {},
     "output_type": "execute_result"
    }
   ],
   "source": [
    "Tx.parse_legacy"
   ]
  },
  {
   "cell_type": "code",
   "execution_count": 7,
   "id": "a5e72a78-04e2-4618-9366-16d39e01ace0",
   "metadata": {},
   "outputs": [],
   "source": [
    "class Tx:\n",
    "    @classmethod\n",
    "    def parse_segwit(cls, s, testnet=False):\n",
    "        version = little_endian_to_int(s.read(4))\n",
    "        marker = s.read(2)\n",
    "        if marker != b'\\x00\\x01':  # <1> 2개의 새로운 필드가 있는데 그 중 하나가 세그윗 마커이다.\n",
    "            raise RuntimeError('Not a segwit transaction {}'.format(marker))\n",
    "        num_inputs = read_varint(s)\n",
    "        inputs = []\n",
    "        for _ in range(num_inputs):\n",
    "            inputs.append(TxIn.parse(s))\n",
    "        num_outputs = read_varint(s)\n",
    "        outputs = []\n",
    "        for _ in range(num_outputs):\n",
    "            outputs.append(TxOut.parse(s))\n",
    "        for tx_in in inputs:  # <2>\n",
    "            num_items = read_varint(s)\n",
    "            items = []\n",
    "            for _ in range(num_items):\n",
    "                item_len = read_varint(s)\n",
    "                if item_len == 0:\n",
    "                    items.append(0)\n",
    "                else:\n",
    "                    items.append(s.read(item_len))\n",
    "            tx_in.witness = items\n",
    "        locktime = little_endian_to_int(s.read(4))\n",
    "        return cls(version, inputs, outputs, locktime, \n",
    "                   testnet=testnet, segwit=True)"
   ]
  },
  {
   "cell_type": "code",
   "execution_count": 8,
   "id": "4ebe549c-442d-408a-bda2-b67827fbbdd1",
   "metadata": {},
   "outputs": [],
   "source": [
    "class Tx:\n",
    "    @classmethod\n",
    "    def serialize(self):\n",
    "        if self.segwit:\n",
    "            return self.serialize_segwit()\n",
    "        else:\n",
    "            return self.serialize_legacy()\n",
    "\n",
    "    def serialize_legacy(self):  # <1> 예전 serialize 메서드의 이름을 변경한다.\n",
    "        result = int_to_little_endian(self.version, 4)\n",
    "        result += encode_varint(len(self.tx_ins))\n",
    "        for tx_in in self.tx_ins:\n",
    "            result += tx_in.serialize()\n",
    "        result += encode_varint(len(self.tx_outs))\n",
    "        for tx_out in self.tx_outs:\n",
    "            result += tx_out.serialize()\n",
    "        result += int_to_little_endian(self.locktime, 4)\n",
    "        return result\n",
    "\n",
    "    def serialize_segwit(self):\n",
    "        result = int_to_little_endian(self.version, 4)\n",
    "        result += b'\\x00\\x01'  # <2> 세그윗 직렬화에서 마커를 추가한다.\n",
    "        result += encode_varint(len(self.tx_ins))\n",
    "        for tx_in in self.tx_ins:\n",
    "            result += tx_in.serialize()\n",
    "        result += encode_varint(len(self.tx_outs))\n",
    "        for tx_out in self.tx_outs:\n",
    "            result += tx_out.serialize()\n",
    "        for tx_in in self.tx_ins:  # <3> 증인필드는 마지막에 직렬화된다.\n",
    "            result += int_to_little_endian(len(tx_in.witness), 1)\n",
    "            for item in tx_in.witness:\n",
    "                if type(item) == int:\n",
    "                    result += int_to_little_endian(item, 1)\n",
    "                else:\n",
    "                    result += encode_varint(len(item)) + item\n",
    "        result += int_to_little_endian(self.locktime, 4)\n",
    "        return result"
   ]
  },
  {
   "cell_type": "code",
   "execution_count": 9,
   "id": "3ed21bd2-3d4a-431f-8d31-235ec70d852d",
   "metadata": {},
   "outputs": [],
   "source": [
    "def verify_input(self, input_index):\n",
    "        '''Returns whether the input has a valid signature'''\n",
    "        tx_in = self.tx_ins[input_index]\n",
    "        script_pubkey = tx_in.script_pubkey(testnet=self.testnet)\n",
    "        if script_pubkey.is_p2sh_script_pubkey():\n",
    "            cmd = tx_in.script_sig.cmds[-1]\n",
    "            raw_redeem = int_to_little_endian(len(cmd), 1) + cmd\n",
    "            redeem_script = Script.parse(BytesIO(raw_redeem))\n",
    "            if redeem_script.is_p2wpkh_script_pubkey(): # <1> 만약 if 문의 조건이 참이면 스크립트인 경우이다.\n",
    "                z = self.sig_hash_bip143(input_index, redeem_script) # <2> 서명해시 값 계산함수는 정의되어 있다.\n",
    "                witness = tx_in.witness\n",
    "            elif redeem_script.is_p2wsh_script_pubkey():\n",
    "                cmd = tx_in.witness[-1]\n",
    "                raw_witness = encode_varint(len(cmd)) + cmd\n",
    "                witness_script = Script.parse(BytesIO(raw_witness))\n",
    "                z = self.sig_hash_bip143(input_index, witness_script=witness_script)\n",
    "                witness = tx_in.witness\n",
    "            else:\n",
    "                z = self.sig_hash(input_index, redeem_script)\n",
    "                witness = None\n",
    "        else:\n",
    "            if script_pubkey.is_p2wpkh_script_pubkey(): # <3> 만약 if문이 참이면 스크립트의 경우이다.\n",
    "                z = self.sig_hash_bip143(input_index)\n",
    "                witness = tx_in.witness\n",
    "            elif script_pubkey.is_p2wsh_script_pubkey():\n",
    "                cmd = tx_in.witness[-1]\n",
    "                raw_witness = encode_varint(len(cmd)) + cmd\n",
    "                witness_script = Script.parse(BytesIO(raw_witness))\n",
    "                z = self.sig_hash_bip143(input_index, witness_script=witness_script)\n",
    "                witness = tx_in.witness\n",
    "            else:\n",
    "                z = self.sig_hash(input_index)\n",
    "                witness = None\n",
    "        combined = tx_in.script_sig + script_pubkey\n",
    "        return combined.evaluate(z, witness) # <4> witness를 스크립트 실행 메서드에 인수로 넘긴다."
   ]
  },
  {
   "cell_type": "code",
   "execution_count": 10,
   "id": "3fa110ac-0f3a-483f-b8ef-8595e1e241f5",
   "metadata": {},
   "outputs": [],
   "source": [
    "class Tx:\n",
    "    def verify_input(self, input_index):\n",
    "        '''Returns whether the input has a valid signature'''\n",
    "        tx_in = self.tx_ins[input_index]\n",
    "        script_pubkey = tx_in.script_pubkey(testnet=self.testnet)\n",
    "        if script_pubkey.is_p2sh_script_pubkey():\n",
    "            cmd = tx_in.script_sig.cmds[-1]\n",
    "            raw_redeem = int_to_little_endian(len(cmd), 1) + cmd\n",
    "            redeem_script = Script.parse(BytesIO(raw_redeem))\n",
    "            if redeem_script.is_p2wpkh_script_pubkey():\n",
    "                z = self.sig_hash_bip143(input_index, redeem_script)\n",
    "                witness = tx_in.witness\n",
    "            elif redeem_script.is_p2wsh_script_pubkey(): # <1> p2sh-p2wsh의 경우인지 판단한다.\n",
    "                cmd = tx_in.witness[-1]\n",
    "                raw_witness = encode_varint(len(cmd)) + cmd\n",
    "                witness_script = Script.parse(BytesIO(raw_witness))\n",
    "                z = self.sig_hash_bip143(input_index, witness_script=witness_script)\n",
    "                witness = tx_in.witness\n",
    "            else:\n",
    "                z = self.sig_hash(input_index, redeem_script)\n",
    "                witness = None\n",
    "        else:\n",
    "            if script_pubkey.is_p2wpkh_script_pubkey():\n",
    "                z = self.sig_hash_bip143(input_index)\n",
    "                witness = tx_in.witness\n",
    "            elif script_pubkey.is_p2wsh_script_pubkey(): # <2> p2wsh의 경우인지 판단한다.\n",
    "                cmd = tx_in.witness[-1]\n",
    "                raw_witness = encode_varint(len(cmd)) + cmd\n",
    "                witness_script = Script.parse(BytesIO(raw_witness))\n",
    "                z = self.sig_hash_bip143(input_index, witness_script=witness_script)\n",
    "                witness = tx_in.witness\n",
    "            else:\n",
    "                z = self.sig_hash(input_index)\n",
    "                witness = None\n",
    "        combined = tx_in.script_sig + script_pubkey\n",
    "        return combined.evaluate(z, witness)"
   ]
  },
  {
   "cell_type": "code",
   "execution_count": null,
   "id": "48f4cb61-c306-46d7-bc2d-e176191f0ea3",
   "metadata": {},
   "outputs": [],
   "source": []
  },
  {
   "cell_type": "code",
   "execution_count": null,
   "id": "d04ef126-e082-4ca8-b7b3-14d1e650efa8",
   "metadata": {},
   "outputs": [],
   "source": []
  },
  {
   "cell_type": "code",
   "execution_count": null,
   "id": "d8678d99-2ddc-4310-9f4b-b39d5d132f71",
   "metadata": {},
   "outputs": [],
   "source": []
  },
  {
   "cell_type": "code",
   "execution_count": 2,
   "id": "6874b2ca-3856-4eb9-b7be-c64f6ed1d0af",
   "metadata": {},
   "outputs": [
    {
     "data": {
      "text/plain": [
       "__main__.Tx"
      ]
     },
     "execution_count": 2,
     "metadata": {},
     "output_type": "execute_result"
    }
   ],
   "source": []
  },
  {
   "cell_type": "code",
   "execution_count": null,
   "id": "f254e411-de81-4801-b974-1f75d6762f35",
   "metadata": {},
   "outputs": [],
   "source": []
  }
 ],
 "metadata": {
  "kernelspec": {
   "display_name": "py39_tf214",
   "language": "python",
   "name": "py39_tf214"
  },
  "language_info": {
   "codemirror_mode": {
    "name": "ipython",
    "version": 3
   },
   "file_extension": ".py",
   "mimetype": "text/x-python",
   "name": "python",
   "nbconvert_exporter": "python",
   "pygments_lexer": "ipython3",
   "version": "3.9.19"
  },
  "widgets": {
   "application/vnd.jupyter.widget-state+json": {
    "state": {},
    "version_major": 2,
    "version_minor": 0
   }
  }
 },
 "nbformat": 4,
 "nbformat_minor": 5
}
