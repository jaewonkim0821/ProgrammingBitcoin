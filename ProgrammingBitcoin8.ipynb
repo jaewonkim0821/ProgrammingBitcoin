{
 "cells": [
  {
   "cell_type": "code",
   "execution_count": 1,
   "id": "1d83ff87-9939-4bc7-91de-3637eae48540",
   "metadata": {},
   "outputs": [],
   "source": [
    "def op_checkmultisig(stack,z):\n",
    "    if len(stack)<1:\n",
    "        return False\n",
    "    n = decode_num(stack.pop())\n",
    "    if len(stack) <n+1:\n",
    "        return False\n",
    "    sec_pubkeys=[]\n",
    "    for _ in range(n):\n",
    "        sec_pubkeys.append(stack.pop())\n",
    "    m = decode_num(stack.pop())\n",
    "    if len(stack) <m+1:\n",
    "        return False\n",
    "    der_signatures = []\n",
    "    for _ in range(m):\n",
    "        der_signatures.append(stack.pop()[:-1])\n",
    "    stack.pop()\n",
    "    try:\n",
    "        raise NotImplementedError\n",
    "    except (ValueError, SyntaxError):\n",
    "        return False\n",
    "    return True\n",
    "\n"
   ]
  },
  {
   "cell_type": "markdown",
   "id": "a7abec66-41d0-45b4-93d1-1cee68e8a06d",
   "metadata": {},
   "source": [
    "## 연습문제 8.1 op.py의 op_checkmultisig 함수를 작성하시오."
   ]
  },
  {
   "cell_type": "code",
   "execution_count": 2,
   "id": "0fcf0054-db68-4709-992d-4c142761654f",
   "metadata": {},
   "outputs": [],
   "source": [
    "def op_checkmultisig(stack, z):\n",
    "    if len(stack) < 1:\n",
    "        return False\n",
    "    n = decode_num(stack.pop())\n",
    "    if len(stack) < n + 1:\n",
    "        return False\n",
    "    sec_pubkeys = []\n",
    "    for _ in range(n):\n",
    "        sec_pubkeys.append(stack.pop())\n",
    "    m = decode_num(stack.pop())\n",
    "    if len(stack) < m + 1:\n",
    "        return False\n",
    "    der_signatures = []\n",
    "    for _ in range(m):\n",
    "        der_signatures.append(stack.pop()[:-1])  # <1>\n",
    "    stack.pop()  # <2>\n",
    "    try:\n",
    "        points = [S256Point.parse(sec) for sec in sec_pubkeys]\n",
    "        sigs = [Signature.parse(der) for der in der_signatures]\n",
    "        for sig in sigs:\n",
    "            if len(points) ==0:\n",
    "                return False\n",
    "            while points:\n",
    "                point = points.pop(0)\n",
    "                if point.verify(z,sig):\n",
    "                    break\n",
    "        stack.append(encode_num(1))\n",
    "          # <3>\n",
    "    except (ValueError, SyntaxError):\n",
    "        return False\n",
    "    return True"
   ]
  },
  {
   "cell_type": "code",
   "execution_count": 3,
   "id": "96b1d408-240e-4d02-8273-07bf16378ed9",
   "metadata": {},
   "outputs": [],
   "source": [
    "from helper import encode_base58_checksum"
   ]
  },
  {
   "cell_type": "code",
   "execution_count": 4,
   "id": "d7413491-34fa-4168-827a-9f09f1c19e2d",
   "metadata": {},
   "outputs": [
    {
     "name": "stdout",
     "output_type": "stream",
     "text": [
      "3CLoMMyuoDQTPRD3XYZtCvgvkadrAdvdXh\n"
     ]
    }
   ],
   "source": [
    "h160 = bytes.fromhex('74d691da1574e6b3c192ecfb52cc8984ee7b6c56')\n",
    "print(encode_base58_checksum(b'\\x05'+h160))"
   ]
  },
  {
   "cell_type": "markdown",
   "id": "d2b741b5-2562-49dc-8fc3-5866b6f0cb20",
   "metadata": {},
   "source": [
    "## 연습문제 8.2. 20바이트의 hash160 값을 p2pkh 주소로 변환하는 h160_to_p2pkh_address 함수를 작성하시오"
   ]
  },
  {
   "cell_type": "code",
   "execution_count": 5,
   "id": "92ef3377-6f51-471b-8430-ab4fa20b7b4b",
   "metadata": {},
   "outputs": [],
   "source": [
    "def h160_to_p2pkh_address(h160, testnet=False):\n",
    "    if testnet:\n",
    "        prefix = b'\\x6f'\n",
    "    else:\n",
    "        prefix = b'\\x00'\n",
    "    return encode_base58_checksum(prefix+h160)"
   ]
  },
  {
   "cell_type": "code",
   "execution_count": 10,
   "id": "b38f8fd3-7bee-4105-b004-02119e6ee756",
   "metadata": {},
   "outputs": [
    {
     "ename": "NameError",
     "evalue": "name 'h160_to_p2pkh_address1' is not defined",
     "output_type": "error",
     "traceback": [
      "\u001b[1;31m---------------------------------------------------------------------------\u001b[0m",
      "\u001b[1;31mNameError\u001b[0m                                 Traceback (most recent call last)",
      "Cell \u001b[1;32mIn[10], line 47\u001b[0m\n\u001b[0;32m     44\u001b[0m     \u001b[38;5;28mprint\u001b[39m(\u001b[38;5;124m\"\u001b[39m\u001b[38;5;124mAll tests passed!\u001b[39m\u001b[38;5;124m\"\u001b[39m)\n\u001b[0;32m     46\u001b[0m \u001b[38;5;66;03m# 테스트 함수 실행\u001b[39;00m\n\u001b[1;32m---> 47\u001b[0m \u001b[43mtest_h160_to_p2pkh_address1\u001b[49m\u001b[43m(\u001b[49m\u001b[43m)\u001b[49m\n",
      "Cell \u001b[1;32mIn[10], line 31\u001b[0m, in \u001b[0;36mtest_h160_to_p2pkh_address1\u001b[1;34m()\u001b[0m\n\u001b[0;32m     28\u001b[0m testnet_h160 \u001b[38;5;241m=\u001b[39m \u001b[38;5;28mbytes\u001b[39m\u001b[38;5;241m.\u001b[39mfromhex(\u001b[38;5;124m'\u001b[39m\u001b[38;5;124mf0b34a4c8d26ee77d7b94df8f2b1f9dcf2ef7f3e\u001b[39m\u001b[38;5;124m'\u001b[39m)  \u001b[38;5;66;03m# Testnet 예제\u001b[39;00m\n\u001b[0;32m     30\u001b[0m \u001b[38;5;66;03m# 테스트넷 주소 생성\u001b[39;00m\n\u001b[1;32m---> 31\u001b[0m testnet_address \u001b[38;5;241m=\u001b[39m \u001b[43mh160_to_p2pkh_address1\u001b[49m(testnet_h160, testnet\u001b[38;5;241m=\u001b[39m\u001b[38;5;28;01mTrue\u001b[39;00m)\n\u001b[0;32m     32\u001b[0m \u001b[38;5;28mprint\u001b[39m(\u001b[38;5;124mf\u001b[39m\u001b[38;5;124m\"\u001b[39m\u001b[38;5;124mTestnet Address: \u001b[39m\u001b[38;5;132;01m{\u001b[39;00mtestnet_address\u001b[38;5;132;01m}\u001b[39;00m\u001b[38;5;124m\"\u001b[39m)\n\u001b[0;32m     34\u001b[0m \u001b[38;5;66;03m# 메인넷 주소 생성\u001b[39;00m\n",
      "\u001b[1;31mNameError\u001b[0m: name 'h160_to_p2pkh_address1' is not defined"
     ]
    }
   ],
   "source": [
    "import hashlib\n",
    "\n",
    "# Base58Check 인코딩 함수 (checksum 포함)\n",
    "def encode_base58_checksum(b):\n",
    "    checksum = hashlib.sha256(hashlib.sha256(b).digest()).digest()[:4]\n",
    "    return encode_base58(b + checksum)\n",
    "\n",
    "# Base58 인코딩\n",
    "def encode_base58(b):\n",
    "    alphabet = '123456789ABCDEFGHJKLMNPQRSTUVWXYZabcdefghijkmnopqrstuvwxyz'\n",
    "    num = int.from_bytes(b, 'big')\n",
    "    result = ''\n",
    "    while num > 0:\n",
    "        num, mod = divmod(num, 58)\n",
    "        result = alphabet[mod] + result\n",
    "    # 원래 데이터의 앞부분 0x00은 Base58에서는 '1'로 변환\n",
    "    for byte in b:\n",
    "        if byte == 0:\n",
    "            result = '1' + result\n",
    "        else:\n",
    "            break\n",
    "    return result\n",
    "\n",
    "# 테스트 함수 정의\n",
    "def test_h160_to_p2pkh_address1():\n",
    "    # 임의의 20바이트 hash160 값\n",
    "    h160 = bytes.fromhex('1f8ac10f23c5b5bc1167bda84b833e5c057a77d2')  # 예제 hash160\n",
    "    testnet_h160 = bytes.fromhex('f0b34a4c8d26ee77d7b94df8f2b1f9dcf2ef7f3e')  # Testnet 예제\n",
    "\n",
    "    # 테스트넷 주소 생성\n",
    "    testnet_address = h160_to_p2pkh_address(testnet_h160, testnet=True)\n",
    "    print(f\"Testnet Address: {testnet_address}\")\n",
    "\n",
    "    # 메인넷 주소 생성\n",
    "    mainnet_address = h160_to_p2pkh_address(h160, testnet=False)\n",
    "    print(f\"Mainnet Address: {mainnet_address}\")\n",
    "\n",
    "    # 예상 값 확인 (이 값을 다른 도구에서 계산하여 비교)\n",
    "    expected_mainnet_address = \"n3TfFPyYCFruMT7dWdeZcytae55BPrQEVW\"\n",
    "    expected_testnet_address = \"13snAkgpFKeNREdrzeE5V1B2zVxAwQSiZi\"\n",
    "\n",
    "    assert mainnet_address == expected_mainnet_address, \"Mainnet address mismatch\"\n",
    "    assert testnet_address == expected_testnet_address, \"Testnet address mismatch\"\n",
    "    print(\"All tests passed!\")\n",
    "\n",
    "# 테스트 함수 실행\n",
    "test_h160_to_p2pkh_address1()\n"
   ]
  },
  {
   "cell_type": "markdown",
   "id": "66a543dd-f96a-4ab6-b49a-baa132a489a6",
   "metadata": {},
   "source": [
    "## 연습문제 8.3. 20바이트의 hash160 값을 p2sh 주소로 변환하는 h160_to_p2sh_address 함수를 작성하시오"
   ]
  },
  {
   "cell_type": "code",
   "execution_count": 11,
   "id": "ce0ef3fb-3abb-4536-945a-69e82560d8ab",
   "metadata": {},
   "outputs": [],
   "source": [
    "def h160_to_p2sh_address(h160,testnet=False):\n",
    "    if testnet:\n",
    "        prefix = b'\\xc4'\n",
    "    else:\n",
    "        prefix = b'\\x05'\n",
    "    return encode_base58_checksum(prefix+h160)"
   ]
  },
  {
   "cell_type": "code",
   "execution_count": 12,
   "id": "f8534d25-e77e-421c-adfb-28ae8b94a05e",
   "metadata": {},
   "outputs": [],
   "source": [
    "from helper import hash256"
   ]
  },
  {
   "cell_type": "code",
   "execution_count": 13,
   "id": "d77898ee-6dea-451f-9445-b7dd269d33d4",
   "metadata": {},
   "outputs": [],
   "source": [
    "modified_tx = bytes.fromhex('0100000001868278ed6ddfb6c1ed3ad5f8181eb0c7a38\\\n",
    "5aa0836f01d5e4789e6bd304d87221a000000475221022626e955ea6ea6d98850c994f9107b036\\\n",
    "b1334f18ca8830bfff1295d21cfdb702103b287eaf122eea69030a0e9feed096bed8045c8b98be\\\n",
    "c453e1ffac7fbdbd4bb7152aeffffffff04d3b11400000000001976a914904a49878c0adfc3aa0\\\n",
    "5de7afad2cc15f483a56a88ac7f400900000000001976a914418327e3f3dda4cf5b9089325a4b9\\\n",
    "5abdfa0334088ac722c0c00000000001976a914ba35042cfe9fc66fd35ac2224eebdafd1028ad2\\\n",
    "788acdc4ace020000000017a91474d691da1574e6b3c192ecfb52cc8984ee7b6c5687000000000\\\n",
    "1000000')"
   ]
  },
  {
   "cell_type": "code",
   "execution_count": 14,
   "id": "90b24976-fed3-4c1b-9725-1e4bdee5b3fa",
   "metadata": {},
   "outputs": [],
   "source": [
    "s256 = hash256(modified_tx)"
   ]
  },
  {
   "cell_type": "code",
   "execution_count": 15,
   "id": "4e642f7b-0dfe-4b1c-ba8c-d7c9483649fa",
   "metadata": {},
   "outputs": [],
   "source": [
    "z = int.from_bytes(s256, 'big')"
   ]
  },
  {
   "cell_type": "code",
   "execution_count": 16,
   "id": "fc48757b-6b57-447c-8789-b9ecd5ada493",
   "metadata": {},
   "outputs": [
    {
     "name": "stdout",
     "output_type": "stream",
     "text": [
      "0xe71bfa115715d6fd33796948126f40a8cdd39f187e4afb03896795189fe1423c\n"
     ]
    }
   ],
   "source": [
    "print(hex(z))"
   ]
  },
  {
   "cell_type": "code",
   "execution_count": 17,
   "id": "52d731b2-5b94-4659-a9ee-e5241e8a1bbf",
   "metadata": {},
   "outputs": [],
   "source": [
    "from ecc import S256Point, Signature\n",
    "from helper import hash256"
   ]
  },
  {
   "cell_type": "code",
   "execution_count": 18,
   "id": "4099c858-5752-432a-9474-02544cb02011",
   "metadata": {},
   "outputs": [],
   "source": [
    "modified_tx = bytes.fromhex('0100000001868278ed6ddfb6c1ed3ad5f8181eb0c7a38\\\n",
    "5aa0836f01d5e4789e6bd304d87221a000000475221022626e955ea6ea6d98850c994f9107b036\\\n",
    "b1334f18ca8830bfff1295d21cfdb702103b287eaf122eea69030a0e9feed096bed8045c8b98be\\\n",
    "c453e1ffac7fbdbd4bb7152aeffffffff04d3b11400000000001976a914904a49878c0adfc3aa0\\\n",
    "5de7afad2cc15f483a56a88ac7f400900000000001976a914418327e3f3dda4cf5b9089325a4b9\\\n",
    "5abdfa0334088ac722c0c00000000001976a914ba35042cfe9fc66fd35ac2224eebdafd1028ad2\\\n",
    "788acdc4ace020000000017a91474d691da1574e6b3c192ecfb52cc8984ee7b6c5687000000000\\\n",
    "1000000')"
   ]
  },
  {
   "cell_type": "code",
   "execution_count": 19,
   "id": "79789baa-00b9-4b8a-aa68-69b7d91b12e4",
   "metadata": {},
   "outputs": [],
   "source": [
    "h256 = hash256(modified_tx)"
   ]
  },
  {
   "cell_type": "code",
   "execution_count": 21,
   "id": "70e30861-68f6-4de7-b268-0ac14b9811f7",
   "metadata": {},
   "outputs": [
    {
     "data": {
      "text/plain": [
       "104533698797560496821845132535319230899254894228014507304915351202849162871356"
      ]
     },
     "execution_count": 21,
     "metadata": {},
     "output_type": "execute_result"
    }
   ],
   "source": [
    "z = int.from_bytes(h256, 'big')\n",
    "z"
   ]
  },
  {
   "cell_type": "code",
   "execution_count": 22,
   "id": "b53d7e81-fbaf-44ad-842b-d716d69d8aae",
   "metadata": {},
   "outputs": [],
   "source": [
    "sec = bytes.fromhex('022626e955ea6ea6d98850c994f9107b036b1334f18ca8830bfff\\\n",
    "1295d21cfdb70')"
   ]
  },
  {
   "cell_type": "code",
   "execution_count": 23,
   "id": "db942b4b-b595-404a-b5c3-24c8698a8df8",
   "metadata": {},
   "outputs": [],
   "source": [
    "der = bytes.fromhex('3045022100dc92655fe37036f47756db8102e0d7d5e28b3beb83a\\\n",
    "8fef4f5dc0559bddfb94e02205a36d4e4e6c7fcd16658c50783e00c341609977aed3ad00937bf4\\\n",
    "ee942a89937')"
   ]
  },
  {
   "cell_type": "code",
   "execution_count": 24,
   "id": "82b39e8f-d04f-49b2-a845-9bd5ab45ce5a",
   "metadata": {},
   "outputs": [
    {
     "name": "stdout",
     "output_type": "stream",
     "text": [
      "True\n"
     ]
    }
   ],
   "source": [
    "point = S256Point.parse(sec)\n",
    "sig = Signature.parse(der)\n",
    "print(point.verify(z, sig))"
   ]
  },
  {
   "cell_type": "markdown",
   "id": "4b2d7a7e-7d7f-46d9-af37-2c713994db8b",
   "metadata": {},
   "source": [
    "## 연습문제 8.4. 앞에 트랜잭션에서 두 번째 서명을 검증하시오."
   ]
  },
  {
   "cell_type": "code",
   "execution_count": 30,
   "id": "e2b7d924-fff3-4506-81a0-e3f967e3a450",
   "metadata": {},
   "outputs": [],
   "source": [
    ">>> from io import BytesIO\n",
    ">>> from ecc import S256Point, Signature\n",
    ">>> from helper import hash256, int_to_little_endian\n",
    ">>> from script import Script\n",
    ">>> from tx import Tx, SIGHASH_ALL\n",
    ">>> hex_tx = '0100000001868278ed6ddfb6c1ed3ad5f8181eb0c7a385aa0836f01d5e4789e6\\\n",
    "bd304d87221a000000db00483045022100dc92655fe37036f47756db8102e0d7d5e28b3beb83a8\\\n",
    "fef4f5dc0559bddfb94e02205a36d4e4e6c7fcd16658c50783e00c341609977aed3ad00937bf4e\\\n",
    "e942a8993701483045022100da6bee3c93766232079a01639d07fa869598749729ae323eab8eef\\\n",
    "53577d611b02207bef15429dcadce2121ea07f233115c6f09034c0be68db99980b9a6c5e754022\\\n",
    "01475221022626e955ea6ea6d98850c994f9107b036b1334f18ca8830bfff1295d21cfdb702103\\\n",
    "b287eaf122eea69030a0e9feed096bed8045c8b98bec453e1ffac7fbdbd4bb7152aeffffffff04\\\n",
    "d3b11400000000001976a914904a49878c0adfc3aa05de7afad2cc15f483a56a88ac7f40090000\\\n",
    "0000001976a914418327e3f3dda4cf5b9089325a4b95abdfa0334088ac722c0c00000000001976\\\n",
    "a914ba35042cfe9fc66fd35ac2224eebdafd1028ad2788acdc4ace020000000017a91474d691da\\\n",
    "1574e6b3c192ecfb52cc8984ee7b6c568700000000'\n",
    ">>> hex_sec = '03b287eaf122eea69030a0e9feed096bed8045c8b98bec453e1ffac7fbdbd4b\\\n",
    "b71'\n",
    ">>> hex_der = '3045022100da6bee3c93766232079a01639d07fa869598749729ae323eab8ee\\\n",
    "f53577d611b02207bef15429dcadce2121ea07f233115c6f09034c0be68db99980b9a6c5e75402\\\n",
    "2'\n",
    ">>> hex_redeem_script = '475221022626e955ea6ea6d98850c994f9107b036b1334f18ca88\\\n",
    "30bfff1295d21cfdb702103b287eaf122eea69030a0e9feed096bed8045c8b98bec453e1ffac7f\\\n",
    "bdbd4bb7152ae'\n",
    ">>> sec = bytes.fromhex(hex_sec)\n",
    ">>> der = bytes.fromhex(hex_der)\n",
    ">>> redeem_script = Script.parse(BytesIO(bytes.fromhex(hex_redeem_script)))\n",
    ">>> stream = BytesIO(bytes.fromhex(hex_tx))\n",
    ">>> tx_obj = Tx.parse(stream)\n",
    ">>> s = int_to_little_endian(tx_obj.version, 4)"
   ]
  },
  {
   "cell_type": "code",
   "execution_count": 36,
   "id": "3737b133-c634-4fdb-a1ec-8eb6534e5d9b",
   "metadata": {},
   "outputs": [],
   "source": [
    "\n",
    "# >>> s += encode_varint(len(tx_obj.tx_ins))\n",
    "# >>> i = tx_obj.tx_ins[0]\n",
    "# >>> s += TxIn(i.prev_tx, i.prev_index, redeem_script, i.sequence).serialize()\n",
    "# >>> s += encode_varint(len(tx_obj.tx_outs))\n",
    "# >>> for tx_out in tx_obj.tx_outs:\n",
    "# ...    s += tx_out.serialize()\n",
    "# >>> s += int_to_little_endian(tx_obj.locktime, 4)\n",
    "# >>> s += int_to_little_endian(SIGHASH_ALL, 4)\n",
    "# >>> z = int.from_bytes(hash256(s), 'big')\n",
    "# >>> point = S256Point.parse(sec)\n",
    "# >>> sig = Signature.parse(der)\n",
    "# >>> print(point.verify(z, sig))"
   ]
  },
  {
   "cell_type": "markdown",
   "id": "c56bd3a8-73cf-4a01-bf3b-db9cf5400697",
   "metadata": {},
   "source": [
    "## 연습문제 8.5. p2sh 트랜잭션을 검증할 수 있도록 sig_hash와 verify_input을 수정하시오."
   ]
  },
  {
   "cell_type": "code",
   "execution_count": null,
   "id": "4279e181-f776-4b63-827c-cfb2e61d94be",
   "metadata": {},
   "outputs": [],
   "source": []
  },
  {
   "cell_type": "code",
   "execution_count": null,
   "id": "fde7ebdb-e174-4af8-a6d6-5a9469c17a00",
   "metadata": {},
   "outputs": [],
   "source": []
  },
  {
   "cell_type": "code",
   "execution_count": null,
   "id": "ef4ba6d4-e576-4aba-bd59-4928c185bfa7",
   "metadata": {},
   "outputs": [],
   "source": []
  },
  {
   "cell_type": "code",
   "execution_count": null,
   "id": "628452c6-3cf8-4ff5-8ae0-4b21c75bbc85",
   "metadata": {},
   "outputs": [],
   "source": []
  },
  {
   "cell_type": "code",
   "execution_count": null,
   "id": "e5b8921d-1a8e-4437-b647-1b18aaa6b415",
   "metadata": {},
   "outputs": [],
   "source": []
  }
 ],
 "metadata": {
  "kernelspec": {
   "display_name": "py39_tf214",
   "language": "python",
   "name": "py39_tf214"
  },
  "language_info": {
   "codemirror_mode": {
    "name": "ipython",
    "version": 3
   },
   "file_extension": ".py",
   "mimetype": "text/x-python",
   "name": "python",
   "nbconvert_exporter": "python",
   "pygments_lexer": "ipython3",
   "version": "3.9.19"
  },
  "widgets": {
   "application/vnd.jupyter.widget-state+json": {
    "state": {},
    "version_major": 2,
    "version_minor": 0
   }
  }
 },
 "nbformat": 4,
 "nbformat_minor": 5
}
