{
 "cells": [
  {
   "cell_type": "markdown",
   "id": "95c9ab6f-fdd9-44a7-8e34-d6d6aea02fad",
   "metadata": {},
   "source": [
    "### 9.1.1. 해제 스크립트"
   ]
  },
  {
   "cell_type": "code",
   "execution_count": 1,
   "id": "32c467be-1280-4564-9317-1516b411f9eb",
   "metadata": {},
   "outputs": [
    {
     "name": "stdout",
     "output_type": "stream",
     "text": [
      "b'The Times 03/Jan/2009 Chancellor on brink of second bailout for banks'\n"
     ]
    }
   ],
   "source": [
    "from io import BytesIO\n",
    "from script import Script\n",
    "stream = BytesIO(bytes.fromhex('4d04ffff001d0104455468652054696d6573203033\\\n",
    "2f4a616e2f32303039204368616e63656c6c6f72206f6e206272696e6b206f66207365636f6e64\\\n",
    "206261696c6f757420666f722062616e6b73'))\n",
    "s = Script.parse(stream)\n",
    "print(s.cmds[2])"
   ]
  },
  {
   "cell_type": "markdown",
   "id": "1f6ed41b-dbf7-4b74-a798-a428ea67bedd",
   "metadata": {},
   "source": [
    "# 연습문제 9.1. Tx 클래스의 is_coinbase 메서드를 작성하시오."
   ]
  },
  {
   "cell_type": "code",
   "execution_count": 2,
   "id": "099577bb-e654-4a4e-ab8b-76359734864d",
   "metadata": {},
   "outputs": [],
   "source": [
    "class Tx:\n",
    "    def is_coinbase(self):\n",
    "        if len(self.tx_ins) !=1:\n",
    "            return False\n",
    "        first_input = self.tx_ins[0]\n",
    "        if first_input.prev_tx != b'\\x00'*32:\n",
    "            return False\n",
    "        if first_input.prev_index != 0xffffffff:\n",
    "            return False\n",
    "        return True"
   ]
  },
  {
   "cell_type": "markdown",
   "id": "3100fa8f-e909-4e95-a09a-49d1fd68e3b7",
   "metadata": {},
   "source": [
    "### 9.1.2. BIP0034 제안서"
   ]
  },
  {
   "cell_type": "code",
   "execution_count": 3,
   "id": "3ee9d3ab-573f-4ffa-825f-7d74d8201c89",
   "metadata": {},
   "outputs": [
    {
     "name": "stdout",
     "output_type": "stream",
     "text": [
      "465879\n"
     ]
    }
   ],
   "source": [
    "from io import BytesIO\n",
    "from script import Script\n",
    "from helper import little_endian_to_int\n",
    "stream = BytesIO(bytes.fromhex('5e03d71b07254d696e656420627920416e74506f6f\\\n",
    "6c20626a31312f4542312f4144362f43205914293101fabe6d6d678e2c8c34afc36896e7d94028\\\n",
    "24ed38e856676ee94bfdb0c6c4bcd8b2e5666a0400000000000000c7270000a5e00e00'))\n",
    "script_sig = Script.parse(stream)\n",
    "print(little_endian_to_int(script_sig.cmds[0]))"
   ]
  },
  {
   "cell_type": "markdown",
   "id": "d1d6174e-9de4-442e-a122-4f7c9565a0c6",
   "metadata": {},
   "source": [
    "# 연습문제 9.2. Tx클래스의 coinbase_height 메서드를 작성하시오."
   ]
  },
  {
   "cell_type": "code",
   "execution_count": 4,
   "id": "f2e8a530-01e4-4240-b385-11c1eafddc9e",
   "metadata": {},
   "outputs": [],
   "source": [
    "class Tx:\n",
    "    def coinbase_height(self):\n",
    "        if not self.is_coinbase():\n",
    "            return None\n",
    "        element = self.tx_ins[0].script_sig.cmds[0]\n",
    "        return little_endian_to_int(element)"
   ]
  },
  {
   "cell_type": "markdown",
   "id": "4ca3d9e0-0644-46c4-94be-84030ffdc788",
   "metadata": {},
   "source": [
    "# 연습문제 9.3. Block클래스의 parse 메서드를 작성하시오."
   ]
  },
  {
   "cell_type": "code",
   "execution_count": 5,
   "id": "4c47e183-5828-49a4-b0bc-aa9d721ba566",
   "metadata": {},
   "outputs": [],
   "source": [
    "class Block:\n",
    "    @classmethod\n",
    "    def parse(cls,s):\n",
    "        version = little_endian_to_int(s.read(4))\n",
    "        prev_block = s.read(32)[::-1]\n",
    "        merkle_root = s.read(32)[::-1]\n",
    "        timestamp = little_endian_to_int(s.read(4))\n",
    "        bits=s.read(4)\n",
    "        nonce = s.read(4)\n",
    "        return cls(version, prev_block, merkle_root,timestamp,bits, nonce)\n",
    "        "
   ]
  },
  {
   "cell_type": "markdown",
   "id": "9a7a32f9-eefb-4a9c-9e89-55312026265f",
   "metadata": {},
   "source": [
    "# 연습문제 9.4. Block클래스의 serialize 메서드를 작성하시오."
   ]
  },
  {
   "cell_type": "code",
   "execution_count": 6,
   "id": "3d9bf9b5-48fd-4219-ba1f-4db96a14b0af",
   "metadata": {},
   "outputs": [],
   "source": [
    "class Block:\n",
    "    def serialize(self):\n",
    "        result = int_to_little_endian(self.version,4)\n",
    "        result +=self.prev_block[::-1]\n",
    "        result +=self.merkle_root[::-1]\n",
    "        result +=int_to_little_endian(self.timestamp,4)\n",
    "        result +=self.bits\n",
    "        result += self.nonce\n",
    "        return result"
   ]
  },
  {
   "cell_type": "markdown",
   "id": "11450558-3e1d-40bf-82a7-29ae60bfe6c9",
   "metadata": {},
   "source": [
    "# 연습문제 9.5. Block클래스의 hash 메서드를 작성하시오."
   ]
  },
  {
   "cell_type": "code",
   "execution_count": 7,
   "id": "f6f6b92f-6aa0-4953-ba5a-82bac1321dd6",
   "metadata": {},
   "outputs": [],
   "source": [
    "class Block:\n",
    "    def hash(self):\n",
    "        s= self.serialize()\n",
    "        sha = hash256(s)\n",
    "        return sha[::-1]"
   ]
  },
  {
   "cell_type": "markdown",
   "id": "0a42fcd2-f4a5-49e7-9408-306b3456ae59",
   "metadata": {},
   "source": [
    "# 연습문제 9.6. Block클래스의 bip9 메서드를 작성하시오."
   ]
  },
  {
   "cell_type": "code",
   "execution_count": 8,
   "id": "6546e7c2-418f-4de5-81e3-b034128b71b1",
   "metadata": {},
   "outputs": [],
   "source": [
    "class Block:\n",
    "    def bip9(seilf):\n",
    "        return self.version >>29==0b001"
   ]
  },
  {
   "cell_type": "markdown",
   "id": "69cec288-5c0c-4055-b34b-51a2c45c2ca7",
   "metadata": {},
   "source": [
    "# 연습문제 9.7. Block클래스의 bip91 메서드를 작성하시오."
   ]
  },
  {
   "cell_type": "code",
   "execution_count": 9,
   "id": "b83aeb7e-5731-4b98-9e46-74ca4b66af7a",
   "metadata": {},
   "outputs": [],
   "source": [
    "class Block:\n",
    "    def bip91(self):\n",
    "        return self.version >> 4& 1 ==1"
   ]
  },
  {
   "cell_type": "markdown",
   "id": "a746c8ff-e2cd-4694-b0a3-67df1a5d8146",
   "metadata": {},
   "source": [
    "# 연습문제 9.8. Block클래스의 bip141 메서드를 작성하시오."
   ]
  },
  {
   "cell_type": "code",
   "execution_count": 10,
   "id": "a5ba00cb-1e05-4e22-ae5a-0c67ce865ff8",
   "metadata": {},
   "outputs": [],
   "source": [
    "class Block:\n",
    "    def bip141(self):\n",
    "        return self.version >> 1&1==1"
   ]
  },
  {
   "cell_type": "markdown",
   "id": "def40ba5-5ad3-44f0-887c-bef0cdb0e509",
   "metadata": {},
   "source": [
    "# 연습문제 9.9. helper.py 파일의 bits_to_target 함수를 작성하시오."
   ]
  },
  {
   "cell_type": "code",
   "execution_count": 11,
   "id": "9862155b-2f5a-4be4-afe9-a9cc4551c51d",
   "metadata": {},
   "outputs": [
    {
     "name": "stdout",
     "output_type": "stream",
     "text": [
      "888171856257.3206\n"
     ]
    }
   ],
   "source": [
    "from helper import little_endian_to_int\n",
    "bits=bytes.fromhex('e93c0118')\n",
    "exponent = bits[-1]\n",
    "coefficient = little_endian_to_int(bits[:-1])\n",
    "target = coefficient*256**(exponent-3)\n",
    "difficulty = 0xffff * 256 **(0x1d-3)/target\n",
    "print(difficulty)"
   ]
  },
  {
   "cell_type": "markdown",
   "id": "34cf951a-a562-40a2-88a7-8f5ed1bd4bad",
   "metadata": {},
   "source": [
    "# 연습문제 9.10. Block 클래스의 difficulty 메서드를 작성하시오."
   ]
  },
  {
   "cell_type": "code",
   "execution_count": 12,
   "id": "4322b248-4875-4879-a471-5989b7f57e27",
   "metadata": {},
   "outputs": [],
   "source": [
    "class Block:\n",
    "    def difficulty(self):\n",
    "        lowest = 0xffff*256**(0x1d-3)\n",
    "        return lowest / self.target()"
   ]
  },
  {
   "cell_type": "markdown",
   "id": "d2f6952d-d98a-42f0-825d-ab0198c8c436",
   "metadata": {},
   "source": [
    "# 연습문제 9.11. Block 클래스의 check_pow 메서드를 작성하시오."
   ]
  },
  {
   "cell_type": "code",
   "execution_count": 13,
   "id": "02c71188-ade5-425b-bb3d-5ffd24d03342",
   "metadata": {},
   "outputs": [],
   "source": [
    "class Block:\n",
    "    def check_pow(self):\n",
    "        sha = hash256(self.serialize())\n",
    "        proof = little_endian_to_int(sha)\n",
    "        return proof < self.target()"
   ]
  },
  {
   "cell_type": "code",
   "execution_count": 14,
   "id": "0fb63ac1-82c8-4a74-845a-e005e2b85584",
   "metadata": {},
   "outputs": [],
   "source": [
    "def target_to_bits(target):\n",
    "    raw_bytes = target.to_bytes(32,'big')\n",
    "    raw_bytes = raw_bytes.lstrip(b'\\x00')\n",
    "    if raw_bytes[0] > 0x7f:\n",
    "        exponent = len(raw_bytes)+1\n",
    "        coefficient=b'\\x00'+raw_bytes[:2]\n",
    "    else:\n",
    "        exponent = len(raw_bytes)\n",
    "        coefficient = raw_bytes[:3]\n",
    "    new_bits = coefficient[::-1]+bytes([exponent])\n",
    "    return new_bits"
   ]
  },
  {
   "cell_type": "code",
   "execution_count": 15,
   "id": "85bcc9fd-1442-499a-81c2-522c956f52cc",
   "metadata": {},
   "outputs": [
    {
     "ename": "IndentationError",
     "evalue": "expected an indented block (block.py, line 37)",
     "output_type": "error",
     "traceback": [
      "Traceback \u001b[1;36m(most recent call last)\u001b[0m:\n",
      "\u001b[0m  File \u001b[0;32m~\\anaconda3\\envs\\py39_tf214\\lib\\site-packages\\IPython\\core\\interactiveshell.py:3550\u001b[0m in \u001b[0;35mrun_code\u001b[0m\n    exec(code_obj, self.user_global_ns, self.user_ns)\u001b[0m\n",
      "\u001b[1;36m  Cell \u001b[1;32mIn[15], line 1\u001b[1;36m\n\u001b[1;33m    from block import Block\u001b[1;36m\n",
      "\u001b[1;36m  File \u001b[1;32m~\\programmingbitcoin\\code-ch09\\block.py:37\u001b[1;36m\u001b[0m\n\u001b[1;33m    result = int_to_little_endian(self.version,4)\u001b[0m\n\u001b[1;37m    ^\u001b[0m\n\u001b[1;31mIndentationError\u001b[0m\u001b[1;31m:\u001b[0m expected an indented block\n"
     ]
    }
   ],
   "source": [
    "from block import Block\n",
    "from helper import TWO_WEEKS\n",
    "last_block = Block.parse(BytesIO(bytes.fromhex('00000020fdf740b0e49cf75bb3\\\n",
    "d5168fb3586f7613dcc5cd89675b0100000000000000002e37b144c0baced07eb7e7b64da916cd\\\n",
    "3121f2427005551aeb0ec6a6402ac7d7f0e4235954d801187f5da9f5')))\n",
    "first_block = Block.parse(BytesIO(bytes.fromhex('000000201ecd89664fd205a37\\\n",
    "566e694269ed76e425803003628ab010000000000000000bfcade29d080d9aae8fd461254b0418\\\n",
    "05ae442749f2a40100440fc0e3d5868e55019345954d80118a1721b2e')))\n",
    "\n",
    "time_differential = last_block.timestamp - first_block.timestamp\n",
    "if time_differential > TWO_WEEKS * 4:\n",
    "    time_differential = TWO_WEEKS * 4\n",
    "if time_differential < TWO_WEEKS // 4:\n",
    "    time_differential = TWO_WEEKS // 4\n",
    "new_target = last_block.target() * time_differential // TWO_WEEKS\n",
    "print('{:x}'.format(new_target).zfill(64))"
   ]
  },
  {
   "cell_type": "code",
   "execution_count": null,
   "id": "3b2c47d4-1f91-4b52-9199-e0eea698f85c",
   "metadata": {},
   "outputs": [],
   "source": []
  },
  {
   "cell_type": "code",
   "execution_count": null,
   "id": "cecd0ed0-005d-4e1d-b6ef-e0ca18cc48f0",
   "metadata": {},
   "outputs": [],
   "source": []
  },
  {
   "cell_type": "code",
   "execution_count": null,
   "id": "1d152d62-c928-4950-930e-fb512bcc9a56",
   "metadata": {},
   "outputs": [],
   "source": []
  },
  {
   "cell_type": "code",
   "execution_count": null,
   "id": "dd235524-a7c2-443e-afea-97cadcccf1a6",
   "metadata": {},
   "outputs": [],
   "source": []
  },
  {
   "cell_type": "code",
   "execution_count": null,
   "id": "77a43b41-fabc-4970-836d-905eb2b41408",
   "metadata": {},
   "outputs": [],
   "source": []
  },
  {
   "cell_type": "code",
   "execution_count": null,
   "id": "aa57892b-558b-4070-a5cd-1adacd4e8322",
   "metadata": {},
   "outputs": [],
   "source": []
  },
  {
   "cell_type": "code",
   "execution_count": null,
   "id": "fa90d2fd-576e-4e10-8e59-f0706bd2b479",
   "metadata": {},
   "outputs": [],
   "source": []
  }
 ],
 "metadata": {
  "kernelspec": {
   "display_name": "py39_tf214",
   "language": "python",
   "name": "py39_tf214"
  },
  "language_info": {
   "codemirror_mode": {
    "name": "ipython",
    "version": 3
   },
   "file_extension": ".py",
   "mimetype": "text/x-python",
   "name": "python",
   "nbconvert_exporter": "python",
   "pygments_lexer": "ipython3",
   "version": "3.9.19"
  },
  "widgets": {
   "application/vnd.jupyter.widget-state+json": {
    "state": {},
    "version_major": 2,
    "version_minor": 0
   }
  }
 },
 "nbformat": 4,
 "nbformat_minor": 5
}
