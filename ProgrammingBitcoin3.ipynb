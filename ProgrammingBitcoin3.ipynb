{
 "cells": [
  {
   "cell_type": "markdown",
   "id": "b1040c0e-5b96-4058-8e79-5d09334b4562",
   "metadata": {},
   "source": [
    "# 5장 트랜잭션\n",
    "## op_hash160 연산함수를 작성하시오."
   ]
  },
  {
   "cell_type": "code",
   "execution_count": 1,
   "id": "8ee0e82f-5e36-401c-8e85-4d17a4f4df56",
   "metadata": {},
   "outputs": [],
   "source": [
    "import hashlib\n",
    "def hash160(data):\n",
    "    sha256 = hashlib.sha256(data).digest()\n",
    "    ripemd160 = hashlib.new('ripemd160')\n",
    "    ripemd160.update(sha256)\n",
    "    return ripemd160.digest()\n",
    "    \n",
    "def op_hash160(stack):\n",
    "    if len(stack)<1:\n",
    "        return False\n",
    "    element = stack.pop()\n",
    "    h160=hash160(element)\n",
    "    stack.append(h160)\n",
    "    return True"
   ]
  },
  {
   "cell_type": "code",
   "execution_count": 2,
   "id": "f02da19d-ce87-4e25-98c0-c37d8c0d28f5",
   "metadata": {},
   "outputs": [
    {
     "name": "stdout",
     "output_type": "stream",
     "text": [
      "[b'\\xd7\\xd5\\xeex$\\xff\\x93\\xf9L0U\\xaf\\x93\\x82\\xc8lh\\xb5\\xca\\x92']\n"
     ]
    }
   ],
   "source": [
    "stack = [\"hello world\".encode()]\n",
    "op_hash160(stack)\n",
    "print(stack)"
   ]
  },
  {
   "cell_type": "markdown",
   "id": "fce5be34-e99b-49a1-b345-b21c1054ab35",
   "metadata": {},
   "source": [
    "# 파싱함수 작성하기"
   ]
  },
  {
   "cell_type": "code",
   "execution_count": 3,
   "id": "2acab363-c741-41b0-bb14-be9216579b0f",
   "metadata": {},
   "outputs": [],
   "source": [
    "class Script:\n",
    "    def __init__(self, cmds=None):\n",
    "        if cmds is None:\n",
    "            self.cmds =[]\n",
    "        else:\n",
    "            self.cmds=cmds\n",
    "\n",
    "    @classmethod\n",
    "    def parse(cls,s):\n",
    "        length = read_carint(s)\n",
    "        cmds=[]\n",
    "        count=0\n",
    "        while count<length:\n",
    "            current = s.read(1)\n",
    "            count+=1\n",
    "            current_byte = current[0]\n",
    "            if current_byte>=1 and current_byte<=75:\n",
    "                n=current_byte\n",
    "                cmds.append(s.read(n))\n",
    "                count+=n\n",
    "            elif current_byte == 76:\n",
    "                data_length=little_endian_to_int(s.read(1))\n",
    "                cmds.append(s.read(data_length))\n",
    "                count+=data_length+1\n",
    "            elif current_byte==77:\n",
    "                data_length = little_endian_to_int(s.read(2))\n",
    "                cmds.append(s.read(data_length))\n",
    "                count +=data_length+2\n",
    "            else:\n",
    "                op_code = current_byte\n",
    "                cmds.append(op_code)\n",
    "        if count!= length:\n",
    "            raise SyntaxError('parsing script failed')\n",
    "        return cls(cmds)\n",
    "                "
   ]
  },
  {
   "cell_type": "code",
   "execution_count": 4,
   "id": "2144ffca-1348-443a-b083-b464d688f2dc",
   "metadata": {},
   "outputs": [],
   "source": [
    "class Script:\n",
    "    def raw_serialize(self):\n",
    "        result = b''\n",
    "        for cmd in self.cmds:\n",
    "            if type(cmd)==int:\n",
    "                result += int_to_little_endian(cmd,1)\n",
    "            else:\n",
    "                length = len(cmd)\n",
    "            if legth<75:\n",
    "                result +=int_to_little_endian(length,1)\n",
    "            elif length>75 and length<0x100:\n",
    "                result +=int_to_little_endian(76,1)\n",
    "                result += int_to_little_endian(length,1)\n",
    "            elif length>=0x100 and length<=520:\n",
    "                result +=int_to_little_endian(77,1)\n",
    "                result +=int_to_little_endian(length,2)\n",
    "            else:\n",
    "                raise ValueError('too long cmd')\n",
    "            result +=cmd\n",
    "        return result\n",
    "    def serialize(self):\n",
    "        result = self.raw_serialize()\n",
    "        total=len(result)\n",
    "        return encode_varint(total)+result"
   ]
  },
  {
   "cell_type": "code",
   "execution_count": 5,
   "id": "2ea4e745-e2ce-4450-8a63-695ef0673a50",
   "metadata": {},
   "outputs": [],
   "source": [
    "from script import Script\n",
    "z = 0x7c076ff316692a3d7eb3c3bb0f8b1488cf72e1afcd929e29307032997a838a3d\n",
    "sec = bytes.fromhex('04887387e452b8eacc4acfde10d9aaf7f6d9a0f975aabb10d006e\\\n",
    "4da568744d06c61de6d95231cd89026e286df3b6ae4a894a3378e393e93a0f45b666329a0ae34')\n",
    "sig = bytes.fromhex('3045022000eff69ef2b1bd93a66ed5219add4fb51e11a840f4048\\\n",
    "76325a1e8ffe0529a2c022100c7207fee197d27c618aea621406f6bf5ef6fca38681d82b2f06fd\\\n",
    "dbdce6feab601')"
   ]
  },
  {
   "cell_type": "code",
   "execution_count": 6,
   "id": "c8f5ec40-4275-4d8c-908d-f2bf55f34cf9",
   "metadata": {},
   "outputs": [],
   "source": [
    "script_pubkey = Script([sec, 0xac])"
   ]
  },
  {
   "cell_type": "code",
   "execution_count": 7,
   "id": "bd1f70a3-d666-4b9e-97ba-ab47178970e7",
   "metadata": {},
   "outputs": [],
   "source": [
    "script_sig = Script([sig])"
   ]
  },
  {
   "cell_type": "code",
   "execution_count": 8,
   "id": "8b915e05-68e9-4a40-892b-9315ea5b2bff",
   "metadata": {},
   "outputs": [],
   "source": [
    "combined_script = script_sig + script_pubkey"
   ]
  },
  {
   "cell_type": "code",
   "execution_count": 9,
   "id": "49baa09a-d8bc-4a9a-92ee-9c739946cc8d",
   "metadata": {},
   "outputs": [
    {
     "name": "stdout",
     "output_type": "stream",
     "text": [
      "True\n"
     ]
    }
   ],
   "source": [
    "\n",
    "print(combined_script.evaluate(z))"
   ]
  },
  {
   "cell_type": "markdown",
   "id": "35c2a0ca-672b-4b22-a037-d6f66ac563c5",
   "metadata": {},
   "source": [
    "## 연습문제 6.2. op.py 파일에서 연산함수 op_checksig를 작성하시오."
   ]
  },
  {
   "cell_type": "code",
   "execution_count": 10,
   "id": "1f3e3b06-2506-4d3a-b40b-e60e102cdf22",
   "metadata": {},
   "outputs": [],
   "source": [
    "def op_checksig(stack, z):\n",
    "    \n",
    "    if len(stack) < 2:\n",
    "        return False\n",
    "\n",
    "    # 2. 스택에서 공개키와 서명을 추출\n",
    "    sec_pubkey = stack.pop()\n",
    "    der_signature = stack.pop()\n",
    "\n",
    "    # 3. 서명의 마지막 바이트(hash_type) 제거\n",
    "    der_signature = der_signature[:-1]\n",
    "\n",
    "    try:\n",
    "        # 4. SEC 형식의 공개키를 객체로 변환\n",
    "        pubkey = S256Point.parse(sec_pubkey)\n",
    "        # 5. DER 서명을 Signature 객체로 변환\n",
    "        signature = Signature.parse(der_signature)\n",
    "\n",
    "        # 6. 서명 검증\n",
    "        if pubkey.verify(z, signature):\n",
    "            stack.append(1)  # 검증 성공\n",
    "        else:\n",
    "            stack.append(0)  # 검증 실패\n",
    "    except (ValueError, SyntaxError):\n",
    "        stack.append(0)  # 변환 실패 시 검증 실패로 간주\n",
    "\n",
    "    return True"
   ]
  },
  {
   "cell_type": "markdown",
   "id": "cdd70da0-ab8a-4329-8291-203ca2a1ebb0",
   "metadata": {},
   "source": [
    "## 연습문제 6.3. 다음 잠금 스크립트를 해제하는 해제 스크립트를 작성하시오. op_mul은 스택 위 2개의 원소를 가져와서 곱한 결과를 스택 위로 올림"
   ]
  },
  {
   "cell_type": "code",
   "execution_count": 12,
   "id": "6cf1e547-2218-43b0-9e5b-aa1ad72b3062",
   "metadata": {},
   "outputs": [
    {
     "name": "stdout",
     "output_type": "stream",
     "text": [
      "True\n"
     ]
    }
   ],
   "source": [
    "from script import Script\n",
    "script_pubkey = Script([0x76,0x76,0x95,0x93,0x56,0x87])\n",
    "script_sig=Script([0x52])\n",
    "combined_script=script_sig+script_pubkey\n",
    "print(combined_script.evaluate(0))"
   ]
  },
  {
   "cell_type": "markdown",
   "id": "1e343fb6-2c03-4dda-8bff-182801e59b69",
   "metadata": {},
   "source": [
    "## 연습문제 6.4. 다음 스크립트가 어떤일을 하는 지 확인하시오.(script.parse와 스크립트에서 오피코드를 확인하시오.)\n",
    "- 6e879169a77ca787"
   ]
  },
  {
   "cell_type": "code",
   "execution_count": 14,
   "id": "c5ba9fd7-6fb4-4eef-912e-c4718ba9ca6f",
   "metadata": {},
   "outputs": [],
   "source": [
    "from script import Script\n",
    "script_pubkey = Script([0x6e, 0x87, 0x91, 0x69, 0xa7, 0x7c, 0xa7, 0x87])"
   ]
  },
  {
   "cell_type": "code",
   "execution_count": 17,
   "id": "80a57bac-1cfe-46b8-8756-d9f569501b10",
   "metadata": {},
   "outputs": [],
   "source": [
    "c1 = '255044462d312e330a25e2e3cfd30a0a0a312030206f626a0a3c3c2f576964746820\\\n",
    "32203020522f4865696768742033203020522f547970652034203020522f537562747970652035\\\n",
    "203020522f46696c7465722036203020522f436f6c6f7253706163652037203020522f4c656e67\\\n",
    "74682038203020522f42697473506572436f6d706f6e656e7420383e3e0a73747265616d0affd8\\\n",
    "fffe00245348412d3120697320646561642121212121852fec092339759c39b1a1c63c4c97e1ff\\\n",
    "fe017f46dc93a6b67e013b029aaa1db2560b45ca67d688c7f84b8c4c791fe02b3df614f86db169\\\n",
    "0901c56b45c1530afedfb76038e972722fe7ad728f0e4904e046c230570fe9d41398abe12ef5bc\\\n",
    "942be33542a4802d98b5d70f2a332ec37fac3514e74ddc0f2cc1a874cd0c78305a215664613097\\\n",
    "89606bd0bf3f98cda8044629a1'"
   ]
  },
  {
   "cell_type": "code",
   "execution_count": 18,
   "id": "69971033-0383-41b5-95d5-bd71757bbc41",
   "metadata": {},
   "outputs": [],
   "source": [
    "c2 = '255044462d312e330a25e2e3cfd30a0a0a312030206f626a0a3c3c2f576964746820\\\n",
    "32203020522f4865696768742033203020522f547970652034203020522f537562747970652035\\\n",
    "203020522f46696c7465722036203020522f436f6c6f7253706163652037203020522f4c656e67\\\n",
    "74682038203020522f42697473506572436f6d706f6e656e7420383e3e0a73747265616d0affd8\\\n",
    "fffe00245348412d3120697320646561642121212121852fec092339759c39b1a1c63c4c97e1ff\\\n",
    "fe017346dc9166b67e118f029ab621b2560ff9ca67cca8c7f85ba84c79030c2b3de218f86db3a9\\\n",
    "0901d5df45c14f26fedfb3dc38e96ac22fe7bd728f0e45bce046d23c570feb141398bb552ef5a0\\\n",
    "a82be331fea48037b8b5d71f0e332edf93ac3500eb4ddc0decc1a864790c782c76215660dd3097\\\n",
    "91d06bd0af3f98cda4bc4629b1'"
   ]
  },
  {
   "cell_type": "code",
   "execution_count": 19,
   "id": "0e87a1aa-2d0e-49c6-8661-73c469a1de34",
   "metadata": {},
   "outputs": [],
   "source": [
    "collision1 = bytes.fromhex(c1)\n",
    "collision2 = bytes.fromhex(c2)"
   ]
  },
  {
   "cell_type": "code",
   "execution_count": 20,
   "id": "4fab595b-7613-4912-9b17-148fbecfd170",
   "metadata": {},
   "outputs": [
    {
     "name": "stdout",
     "output_type": "stream",
     "text": [
      "True\n"
     ]
    }
   ],
   "source": [
    "script_sig = Script([collision1, collision2])\n",
    "combined_script = script_sig + script_pubkey\n",
    "print(combined_script.evaluate(0))"
   ]
  },
  {
   "cell_type": "code",
   "execution_count": null,
   "id": "e8dde270-0a3e-4b9c-9b0d-d4614f25de71",
   "metadata": {},
   "outputs": [],
   "source": []
  },
  {
   "cell_type": "code",
   "execution_count": null,
   "id": "183f9836-744a-4832-8b13-a56d082a6a05",
   "metadata": {},
   "outputs": [],
   "source": []
  },
  {
   "cell_type": "code",
   "execution_count": null,
   "id": "e5c20083-e9bd-4ff4-ad0f-274b087a7d11",
   "metadata": {},
   "outputs": [],
   "source": []
  },
  {
   "cell_type": "code",
   "execution_count": null,
   "id": "df3cf527-c661-4507-8ab0-31eab1bd32a8",
   "metadata": {},
   "outputs": [],
   "source": []
  },
  {
   "cell_type": "code",
   "execution_count": null,
   "id": "2aa2d739-6aa4-4147-9e6e-ad74add8576d",
   "metadata": {},
   "outputs": [],
   "source": []
  }
 ],
 "metadata": {
  "kernelspec": {
   "display_name": "py39_tf214",
   "language": "python",
   "name": "py39_tf214"
  },
  "language_info": {
   "codemirror_mode": {
    "name": "ipython",
    "version": 3
   },
   "file_extension": ".py",
   "mimetype": "text/x-python",
   "name": "python",
   "nbconvert_exporter": "python",
   "pygments_lexer": "ipython3",
   "version": "3.9.19"
  },
  "widgets": {
   "application/vnd.jupyter.widget-state+json": {
    "state": {},
    "version_major": 2,
    "version_minor": 0
   }
  }
 },
 "nbformat": 4,
 "nbformat_minor": 5
}
