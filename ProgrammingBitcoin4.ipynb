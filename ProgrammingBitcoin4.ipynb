{
 "cells": [
  {
   "cell_type": "markdown",
   "id": "7dcfa3a5-8c92-446a-acfc-f24d85ef66b5",
   "metadata": {},
   "source": [
    "## 연습문제 7.1. Tx 클래스의 sig_hash 메서드를 작성하시오."
   ]
  },
  {
   "cell_type": "code",
   "execution_count": 1,
   "id": "7e393e3e-7d07-4975-a217-5f01222490f0",
   "metadata": {},
   "outputs": [],
   "source": [
    "class Tx:\n",
    "    def sig_hash(self,input_index):\n",
    "        s = int_to_little_endian(self.version,4)\n",
    "        s+= encode_varint(len(self.tx_ins))\n",
    "        for i, tx_in in enumerate(self.tx_ins):\n",
    "            if i==input_index:\n",
    "                s+=TxIn(\n",
    "                    prev_tx=tx_in.prev_tx,\n",
    "                    prev_index = tx_in.prev_index,\n",
    "                    script_sig = tx_in.script_pubkey(self.testnet),\n",
    "                    sequence=tx_in.sequence,\n",
    "                ).serialize()\n",
    "            else:\n",
    "                s+=TxIn(\n",
    "                    prev_tx=tx_in.prev_tx,\n",
    "                    prev_index = tx_in.prev_index,\n",
    "                    sequence = tx_in.sequence,\n",
    "                ).serialize()\n",
    "            s+=encode_varint(len(self.tx_outs))\n",
    "            for tx_out in self.tx_outs:\n",
    "                s+=tx_out.serialize()\n",
    "            s+=int_to_little_endian(self.locktime,4)\n",
    "            s+=int_to_little_endian(SIGHASH_ALL,4)\n",
    "            h256=hash256(s)\n",
    "            return int.from_bytes(h256,'big')"
   ]
  },
  {
   "cell_type": "code",
   "execution_count": null,
   "id": "22bb60e7-8bf6-46b0-9879-1feb9bcc1bb2",
   "metadata": {},
   "outputs": [],
   "source": []
  },
  {
   "cell_type": "code",
   "execution_count": null,
   "id": "5218b73c-437b-49f9-a5d1-d47bb12f5bd8",
   "metadata": {},
   "outputs": [],
   "source": []
  },
  {
   "cell_type": "code",
   "execution_count": null,
   "id": "473de2c6-8583-4d46-8c5e-1ca742d22aa2",
   "metadata": {},
   "outputs": [],
   "source": []
  },
  {
   "cell_type": "code",
   "execution_count": null,
   "id": "0fd54271-b5de-4639-8e7b-4bb5322e567e",
   "metadata": {},
   "outputs": [],
   "source": []
  },
  {
   "cell_type": "code",
   "execution_count": null,
   "id": "67a9253b-ae24-462b-aa11-6b71ef067ac7",
   "metadata": {},
   "outputs": [],
   "source": []
  }
 ],
 "metadata": {
  "kernelspec": {
   "display_name": "py39_tf214",
   "language": "python",
   "name": "py39_tf214"
  },
  "language_info": {
   "codemirror_mode": {
    "name": "ipython",
    "version": 3
   },
   "file_extension": ".py",
   "mimetype": "text/x-python",
   "name": "python",
   "nbconvert_exporter": "python",
   "pygments_lexer": "ipython3",
   "version": "3.9.19"
  },
  "widgets": {
   "application/vnd.jupyter.widget-state+json": {
    "state": {},
    "version_major": 2,
    "version_minor": 0
   }
  }
 },
 "nbformat": 4,
 "nbformat_minor": 5
}
